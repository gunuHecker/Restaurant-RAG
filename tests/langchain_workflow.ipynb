{
  "cells": [
    {
      "cell_type": "code",
      "execution_count": 1,
      "metadata": {
        "colab": {
          "base_uri": "https://localhost:8080/"
        },
        "id": "XSa745zVDvTn",
        "outputId": "d6f9d9b4-503c-4698-d65e-f17c8b7e5aa0"
      },
      "outputs": [
        {
          "name": "stdout",
          "output_type": "stream",
          "text": [
            "\u001b[2K   \u001b[90m━━━━━━━━━━━━━━━━━━━━━━━━━━━━━━━━━━━━━━━━\u001b[0m \u001b[32m2.5/2.5 MB\u001b[0m \u001b[31m38.9 MB/s\u001b[0m eta \u001b[36m0:00:00\u001b[0m\n",
            "\u001b[2K   \u001b[90m━━━━━━━━━━━━━━━━━━━━━━━━━━━━━━━━━━━━━━━━\u001b[0m \u001b[32m30.7/30.7 MB\u001b[0m \u001b[31m44.2 MB/s\u001b[0m eta \u001b[36m0:00:00\u001b[0m\n",
            "\u001b[2K   \u001b[90m━━━━━━━━━━━━━━━━━━━━━━━━━━━━━━━━━━━━━━━━\u001b[0m \u001b[32m1.2/1.2 MB\u001b[0m \u001b[31m53.8 MB/s\u001b[0m eta \u001b[36m0:00:00\u001b[0m\n",
            "\u001b[2K   \u001b[90m━━━━━━━━━━━━━━━━━━━━━━━━━━━━━━━━━━━━━━━━\u001b[0m \u001b[32m1.0/1.0 MB\u001b[0m \u001b[31m42.5 MB/s\u001b[0m eta \u001b[36m0:00:00\u001b[0m\n",
            "\u001b[2K   \u001b[90m━━━━━━━━━━━━━━━━━━━━━━━━━━━━━━━━━━━━━━━━\u001b[0m \u001b[32m434.1/434.1 kB\u001b[0m \u001b[31m25.1 MB/s\u001b[0m eta \u001b[36m0:00:00\u001b[0m\n",
            "\u001b[2K   \u001b[90m━━━━━━━━━━━━━━━━━━━━━━━━━━━━━━━━━━━━━━━━\u001b[0m \u001b[32m44.4/44.4 kB\u001b[0m \u001b[31m2.6 MB/s\u001b[0m eta \u001b[36m0:00:00\u001b[0m\n",
            "\u001b[2K   \u001b[90m━━━━━━━━━━━━━━━━━━━━━━━━━━━━━━━━━━━━━━━━\u001b[0m \u001b[32m363.4/363.4 MB\u001b[0m \u001b[31m4.5 MB/s\u001b[0m eta \u001b[36m0:00:00\u001b[0m\n",
            "\u001b[2K   \u001b[90m━━━━━━━━━━━━━━━━━━━━━━━━━━━━━━━━━━━━━━━━\u001b[0m \u001b[32m13.8/13.8 MB\u001b[0m \u001b[31m94.3 MB/s\u001b[0m eta \u001b[36m0:00:00\u001b[0m\n",
            "\u001b[2K   \u001b[90m━━━━━━━━━━━━━━━━━━━━━━━━━━━━━━━━━━━━━━━━\u001b[0m \u001b[32m24.6/24.6 MB\u001b[0m \u001b[31m79.1 MB/s\u001b[0m eta \u001b[36m0:00:00\u001b[0m\n",
            "\u001b[2K   \u001b[90m━━━━━━━━━━━━━━━━━━━━━━━━━━━━━━━━━━━━━━━━\u001b[0m \u001b[32m883.7/883.7 kB\u001b[0m \u001b[31m39.0 MB/s\u001b[0m eta \u001b[36m0:00:00\u001b[0m\n",
            "\u001b[2K   \u001b[90m━━━━━━━━━━━━━━━━━━━━━━━━━━━━━━━━━━━━━━━━\u001b[0m \u001b[32m664.8/664.8 MB\u001b[0m \u001b[31m1.2 MB/s\u001b[0m eta \u001b[36m0:00:00\u001b[0m\n",
            "\u001b[2K   \u001b[90m━━━━━━━━━━━━━━━━━━━━━━━━━━━━━━━━━━━━━━━━\u001b[0m \u001b[32m211.5/211.5 MB\u001b[0m \u001b[31m5.8 MB/s\u001b[0m eta \u001b[36m0:00:00\u001b[0m\n",
            "\u001b[2K   \u001b[90m━━━━━━━━━━━━━━━━━━━━━━━━━━━━━━━━━━━━━━━━\u001b[0m \u001b[32m56.3/56.3 MB\u001b[0m \u001b[31m11.3 MB/s\u001b[0m eta \u001b[36m0:00:00\u001b[0m\n",
            "\u001b[2K   \u001b[90m━━━━━━━━━━━━━━━━━━━━━━━━━━━━━━━━━━━━━━━━\u001b[0m \u001b[32m127.9/127.9 MB\u001b[0m \u001b[31m7.6 MB/s\u001b[0m eta \u001b[36m0:00:00\u001b[0m\n",
            "\u001b[2K   \u001b[90m━━━━━━━━━━━━━━━━━━━━━━━━━━━━━━━━━━━━━━━━\u001b[0m \u001b[32m207.5/207.5 MB\u001b[0m \u001b[31m5.2 MB/s\u001b[0m eta \u001b[36m0:00:00\u001b[0m\n",
            "\u001b[2K   \u001b[90m━━━━━━━━━━━━━━━━━━━━━━━━━━━━━━━━━━━━━━━━\u001b[0m \u001b[32m21.1/21.1 MB\u001b[0m \u001b[31m78.2 MB/s\u001b[0m eta \u001b[36m0:00:00\u001b[0m\n",
            "\u001b[2K   \u001b[90m━━━━━━━━━━━━━━━━━━━━━━━━━━━━━━━━━━━━━━━━\u001b[0m \u001b[32m50.9/50.9 kB\u001b[0m \u001b[31m3.6 MB/s\u001b[0m eta \u001b[36m0:00:00\u001b[0m\n",
            "\u001b[?25h"
          ]
        }
      ],
      "source": [
        "!pip install -q langchain-community langchain-huggingface \\ faiss-cpu python-dotenv tiktoken sentence-transformers transformers accelerate"
      ]
    },
    {
      "cell_type": "code",
      "execution_count": null,
      "metadata": {
        "id": "Bo-80hHVEBS2"
      },
      "outputs": [],
      "source": [
        "HUGGINGFACEHUB_API_TOKEN = \"hf____\""
      ]
    },
    {
      "cell_type": "code",
      "execution_count": 3,
      "metadata": {
        "id": "TZHXPhyHV9M5"
      },
      "outputs": [],
      "source": [
        "from langchain.text_splitter import RecursiveCharacterTextSplitter\n",
        "from langchain_community.vectorstores import FAISS\n",
        "from langchain_core.prompts import PromptTemplate\n",
        "import json"
      ]
    },
    {
      "cell_type": "code",
      "execution_count": 4,
      "metadata": {
        "colab": {
          "base_uri": "https://localhost:8080/",
          "height": 17,
          "referenced_widgets": [
            "2d0d61c839564354814d536cc3032d92",
            "7d08fd04bf4e4d599305bec9ef60e174",
            "8c24588ba2d446ffb4b4fa19b75ac4af",
            "eab7a700582a40008fae0f51576564ad",
            "534f11c2345143869eaba8f9fcd853ec",
            "6052624cb3e34104a0562183ee1fbb9c",
            "f742ada61cb6416e88a7766c4edacddb",
            "2900a45f2b944e5d99ca99e76aaac0f7",
            "407dbb32a4bd4d4baa6f3ebd9382a353",
            "7f59cb41575c4de9ae0002f6df20c678",
            "6c4a85c8e14c4e55b8bd92f59670984d",
            "c11771ad1b5e4886bdc7ea93bc27e759",
            "ddf6a70e49a34c498ef85a97d2eee2a6",
            "968fb8db37c24016836d2989a1e0105f",
            "29754e15ce4a4f78bb3a9a576ad62d7f",
            "1ab27a3967c641889b72840139c09d1a",
            "2b8f52ba88f342c6910d3bbf4537f85c",
            "a20b87a13aeb4c5284cf0ea4a56bc84a",
            "ef4d89c42d044bbf8632978720cbd1c3",
            "ee66078ab5364c1c830d1a70f6772f0f"
          ]
        },
        "id": "Vj-yqxWWWBAb",
        "outputId": "32af08c2-a673-4da3-d299-552974e07585"
      },
      "outputs": [
        {
          "data": {
            "application/vnd.jupyter.widget-view+json": {
              "model_id": "2d0d61c839564354814d536cc3032d92",
              "version_major": 2,
              "version_minor": 0
            },
            "text/plain": [
              "VBox(children=(HTML(value='<center> <img\\nsrc=https://huggingface.co/front/assets/huggingface_logo-noborder.sv…"
            ]
          },
          "metadata": {},
          "output_type": "display_data"
        }
      ],
      "source": [
        "from huggingface_hub import login\n",
        "login() # You will be prompted for your HF key, which will then be saved locally"
      ]
    },
    {
      "cell_type": "markdown",
      "metadata": {
        "id": "KSp0pZ6QfnpM"
      },
      "source": [
        "## Step 1a- Indexing (Document Ingestion)"
      ]
    },
    {
      "cell_type": "code",
      "execution_count": 6,
      "metadata": {
        "colab": {
          "base_uri": "https://localhost:8080/"
        },
        "id": "1PK9JDCEWElT",
        "outputId": "2debc626-0eb1-48e8-dbcc-7fe85b629b22"
      },
      "outputs": [
        {
          "name": "stdout",
          "output_type": "stream",
          "text": [
            "Drive already mounted at /content/drive; to attempt to forcibly remount, call drive.mount(\"/content/drive\", force_remount=True).\n"
          ]
        }
      ],
      "source": [
        "from google.colab import drive\n",
        "drive.mount('/content/drive')"
      ]
    },
    {
      "cell_type": "code",
      "execution_count": 7,
      "metadata": {
        "colab": {
          "base_uri": "https://localhost:8080/"
        },
        "id": "eUe3U0ObWhnW",
        "outputId": "e1abb96a-ec64-40e3-9681-72f3216cff6d"
      },
      "outputs": [
        {
          "name": "stdout",
          "output_type": "stream",
          "text": [
            "# aryabhavan.txt\n",
            "Aryabhavan Restaurant has description -- Arya Bhavan offers a wide selection of South India Dishes for our esteemed patrons. All the South Indian delicacies are prepared by our expert chefs who use South Indian ingredients. Step into a tasteful journey where our chefs bring the flavors of the south onto your tables at Arya Bhavan.Indulge in South Indian delicacies like the variety of Dosa’s, Malabar paratha, Idli, Vada at Arya Bhavan – one of the top-rated vegetarian restaurants\n"
          ]
        }
      ],
      "source": [
        "# Path to the file in your Drive\n",
        "file_path = \"/content/drive/MyDrive/Nugget/combined_restaurants.txt\"\n",
        "\n",
        "with open(file_path, 'r') as file:\n",
        "    text_data = file.read()\n",
        "\n",
        "print(text_data[:500])"
      ]
    },
    {
      "cell_type": "markdown",
      "metadata": {
        "id": "4hDEQzVzfsvO"
      },
      "source": [
        "## Step 1b - Indexing (Text Splitting)"
      ]
    },
    {
      "cell_type": "code",
      "execution_count": 13,
      "metadata": {
        "id": "kN3rBGtMWvCW"
      },
      "outputs": [],
      "source": [
        "text_splitter = RecursiveCharacterTextSplitter(\n",
        "    chunk_size=1000,\n",
        "    chunk_overlap=200\n",
        ")"
      ]
    },
    {
      "cell_type": "code",
      "execution_count": 14,
      "metadata": {
        "id": "j5KoIGjNW3X7"
      },
      "outputs": [],
      "source": [
        "chunks = text_splitter.create_documents([text_data])"
      ]
    },
    {
      "cell_type": "markdown",
      "metadata": {
        "id": "muLAar6xf0R8"
      },
      "source": [
        "## Step 1c & 1d - Indexing (Embedding Generation and Storing Vector Store)"
      ]
    },
    {
      "cell_type": "code",
      "execution_count": 15,
      "metadata": {
        "id": "CsFBogZsW8gN"
      },
      "outputs": [],
      "source": [
        "from langchain_huggingface import HuggingFaceEmbeddings\n",
        "# from langchain.vectorstores import FAISS\n",
        "\n",
        "# Use a local embedding model\n",
        "model_name = \"sentence-transformers/all-MiniLM-L6-v2\"\n",
        "embeddings = HuggingFaceEmbeddings(model_name=model_name)\n",
        "\n",
        "# Create a FAISS vector store using the same chunks\n",
        "vector_store = FAISS.from_documents(chunks, embeddings)"
      ]
    },
    {
      "cell_type": "code",
      "execution_count": 16,
      "metadata": {
        "colab": {
          "base_uri": "https://localhost:8080/"
        },
        "collapsed": true,
        "id": "8HITEVFwXCfV",
        "outputId": "1078e142-7d70-4649-ce34-d3a1f62af5b5"
      },
      "outputs": [
        {
          "data": {
            "text/plain": [
              "{0: '32dc531c-de76-4570-8b51-d15700d9a776',\n",
              " 1: '78cf2ad1-8a4a-433e-b992-13b829ce0cd2',\n",
              " 2: 'f20f36a6-5aad-44c5-851f-19b8058545fc',\n",
              " 3: '3aff59f4-bc35-40c2-8837-ed9c3cc3e194',\n",
              " 4: '4a500ea5-75e2-47ce-bec1-947f33e87d4d',\n",
              " 5: '02e586ce-a238-4cef-9537-43910d1da45c',\n",
              " 6: '6a1dbdd0-2bd0-4888-a537-cd69e48e8563',\n",
              " 7: 'e2597f6b-57f6-4272-bdf2-f44fc6608e4a',\n",
              " 8: 'e7282c96-1dd3-4833-88a7-40fa414d7e96',\n",
              " 9: '939d31ab-31f4-4e4a-b23e-207894ff4fb0',\n",
              " 10: '01e6d820-0a28-4579-8db4-cf383dc5c766',\n",
              " 11: '6298e7ef-349e-4d56-88ee-e3805eec1136',\n",
              " 12: '4273d656-f2fc-4078-835b-2df349877323',\n",
              " 13: 'bc9253df-6fee-408f-92a8-03c30837e7cb',\n",
              " 14: 'e1a371ee-3b8e-46f3-bf3a-c3e434f072f3',\n",
              " 15: '569937f0-c0d6-412e-8540-2a4c26747bb9',\n",
              " 16: '3564b37d-58ca-4b1e-bd1d-943262299645',\n",
              " 17: 'e8a00218-b9f2-4b3c-8cae-deb39d915a78',\n",
              " 18: 'a3440177-c27f-48f8-afd8-a8e6e73b4291',\n",
              " 19: 'f565ad32-b86f-4cb5-8575-82281ed11150',\n",
              " 20: 'ed9d3ba7-ae79-4448-a830-93584a3a3876',\n",
              " 21: 'db8b4ee4-c791-43cb-a84e-bb49ecb536f3',\n",
              " 22: 'd4fd190c-cb2b-460a-85ce-d5e2ea43717f',\n",
              " 23: '68b28007-a3b2-4961-a692-243456ece418',\n",
              " 24: 'dbd71832-f6c8-4b79-b491-38ab50f0652b',\n",
              " 25: '6b93a54f-d778-4629-b7f8-179927e2c315',\n",
              " 26: '1362044c-f91e-4935-a6b2-15efeeb67408',\n",
              " 27: 'a41e17f9-a185-47b2-90a5-3bbd2f787dbc',\n",
              " 28: '1b7fa879-284e-432c-8cf9-8c2356dd0763',\n",
              " 29: '65dfbc24-6f27-4222-b224-6b58af44f4eb',\n",
              " 30: '609de86e-cced-452b-bb33-ec13f975cf03',\n",
              " 31: '560a62cd-ea8f-47f7-b101-0f566f329c86',\n",
              " 32: '7fb689a8-bead-4bac-8ab4-ffe041ec0103',\n",
              " 33: '148766db-6da8-4752-8c5a-46f704f59fc8',\n",
              " 34: '27cd7b36-e95a-418d-9765-282e1de1d618',\n",
              " 35: '4cbebdcf-847f-4ee8-9ddd-9035f8db4a85',\n",
              " 36: 'e9a3dfb2-d0cb-42ff-a8f8-6a6b75ac6264',\n",
              " 37: 'ae22f5ae-7318-4352-90ed-030d04a076c7',\n",
              " 38: '7f9a8941-6afc-4e8b-9f6d-fd0756511b95',\n",
              " 39: '70c9b953-228e-4c22-ac26-fb2694c7bc53',\n",
              " 40: '4dde3cf7-cc6f-4328-9a23-5bd1961c947a',\n",
              " 41: '5fafccd4-4486-439b-be29-8608683ea87e',\n",
              " 42: 'cec65f4b-03ef-41bc-b675-4e611c9cd092',\n",
              " 43: '7ef2132e-b9a6-4615-b33a-2e79e014c7ca',\n",
              " 44: 'af424402-6493-4aec-bf41-6a5618eaf8b3',\n",
              " 45: '461c09a7-a7c3-4204-9be5-bd7735ad4d65',\n",
              " 46: '236222de-e042-4ef9-b900-556e76c9f348',\n",
              " 47: 'dc77def9-5d6d-43a6-8941-80a3e36137fe',\n",
              " 48: 'aca112fc-5753-4b7a-9adc-6359bd31a1fc',\n",
              " 49: '1d2d531c-7a3a-4ee5-a727-ba1a0ea3c9db',\n",
              " 50: 'dda04631-7531-4399-8ebc-2f70ffa0ded4',\n",
              " 51: '9a969e76-63c1-496b-9c2a-8abe6e723aee',\n",
              " 52: 'efea5642-f9f4-4fa2-a1af-0afe79888123',\n",
              " 53: 'd9303610-bcae-4fcc-8f62-9b4a5b564acb',\n",
              " 54: '5047c600-268f-4224-997f-2868638096dc',\n",
              " 55: '7a81b586-2fce-44bb-829e-c04dd4e715ad',\n",
              " 56: '304fe360-7712-4513-b499-848751151630',\n",
              " 57: '60629a74-fa75-4621-a3fa-a3b18b70eb53',\n",
              " 58: '5fc6027d-b3b8-4825-8a0c-e3126ae3636c',\n",
              " 59: '6aca0bea-6eeb-4420-88bb-edc2304797ae',\n",
              " 60: '1d3836cc-6896-46db-be0e-b940abdbdedd',\n",
              " 61: '71078872-7f0b-4109-8b9c-33bd3bf98b58',\n",
              " 62: '19a7e85d-8cd9-40c5-871e-c0ea0e3d40bb',\n",
              " 63: '67ee5589-af2d-465a-94b1-5fdbc5ce8db4',\n",
              " 64: '54cb3841-a2f6-44d7-a63a-b1e7bdef6278',\n",
              " 65: 'e15083cc-798f-4e90-b403-c4a9202f3911',\n",
              " 66: '931af9d4-6c3d-454e-9cd0-c92c94737740',\n",
              " 67: '8948d7e0-72ba-4b2d-9d26-dca8b54db97b',\n",
              " 68: '2937e44b-98d2-4c55-89c8-f692ff879d2a',\n",
              " 69: '0340cb4e-8290-454f-97de-9875d0ce06c2',\n",
              " 70: 'c41886e1-c0ad-46c3-8104-f83ecfb467da',\n",
              " 71: '6051720c-903f-42ab-96d0-6244f260e24e',\n",
              " 72: '18383499-19ae-4355-bac0-1d19d7d025c0',\n",
              " 73: '3ede199a-e99b-478a-9e2b-68680f3c7af2',\n",
              " 74: '7943a73a-ed91-490c-bb70-2b47b7c85290',\n",
              " 75: 'f62e5136-65b9-4dd8-a6c2-e9c37e6cdce9',\n",
              " 76: '6802ec3c-5c9a-464e-aaab-5aa2c29d66c4',\n",
              " 77: 'c3b1ec9e-e6f6-41a9-8014-67ffe12d3f69',\n",
              " 78: 'b8ae66d9-e158-4d25-9d2e-19d5746be489',\n",
              " 79: 'dd21cd99-d96c-4b1e-be9e-4a0d1b832a4e',\n",
              " 80: 'aaba36ae-1c42-4626-a935-b59da469793d',\n",
              " 81: 'f113b95d-c9e5-430e-9ff0-260f595d6982',\n",
              " 82: 'b4f9d39f-aa63-4f47-a678-ec2994d2d8df',\n",
              " 83: 'a0175f02-4f4d-46ef-a946-abbc14214118',\n",
              " 84: '87c0907c-e560-421b-bc37-26248a3ff67e',\n",
              " 85: '2367a722-b346-46a0-85b3-4d4d6cd38101',\n",
              " 86: '7daff796-b83e-4373-a26f-d63480688d8e',\n",
              " 87: '0b79aae9-be00-4b4a-80d4-9ada35c71586',\n",
              " 88: 'e5529003-4ac0-425a-9b8e-916bffb037cb',\n",
              " 89: 'ac9837cd-1e82-4be4-abbd-4ebaae3e8474',\n",
              " 90: '5858d8a2-f00c-4f03-a4f7-a8f2747f1c37',\n",
              " 91: '1aa7e209-8fb1-4dac-a2f8-c83524ed4053',\n",
              " 92: 'cb5b2758-edb2-4e3f-bf13-514fd0ac5b21',\n",
              " 93: '16879a8d-baec-4c5d-9bc9-5b2f7a599fa5',\n",
              " 94: 'ad6de726-14a1-437b-a75c-284d7e8ba5b1',\n",
              " 95: '6056a705-1c65-4b5a-b0a4-58a56484717e',\n",
              " 96: 'a708a424-dc7a-4495-a6e7-36254d25105f',\n",
              " 97: '5011b37c-780f-4424-b24f-3b68230ced64',\n",
              " 98: '9fd0d6b5-ca54-4091-b008-ca4d090a03a6',\n",
              " 99: '6d9fbaf3-824b-4eb1-b100-36d3a639e956',\n",
              " 100: '14186447-184d-4662-8103-feaa13ce28f5',\n",
              " 101: '243aa7b2-0f44-4b1d-816d-429dc015ad2b',\n",
              " 102: '22dcd990-adce-40cc-938d-04d45a443689',\n",
              " 103: '07953e1a-b4e8-4b3b-8f2b-f505d5394ff9',\n",
              " 104: '663f6362-b1b0-4788-8a33-065b775a1d55',\n",
              " 105: 'dc3b3711-d63a-46a0-8ef4-bacb62a4d650',\n",
              " 106: '225e002e-63d8-44b8-9e7f-33c10fb7d0e9',\n",
              " 107: '399a3bc8-e748-4004-bc35-86f0a620132d',\n",
              " 108: 'eba1bf4b-3c6f-4abf-8d70-a4007264b6b5',\n",
              " 109: '534e1e30-5390-4a39-bb76-cbc5ef39db29',\n",
              " 110: '879979c3-2659-4b84-8bff-a8529fc4de15',\n",
              " 111: '7adb9e8a-749b-4bbd-b69a-c681dc932d15',\n",
              " 112: 'c4c7f63d-47ea-4ce2-9aaa-f1d734a0cc0a',\n",
              " 113: '0c6cca7d-1a16-4bbb-ab6b-4b9888e31263',\n",
              " 114: '5b9905be-e969-40f6-a1aa-e44492d246d2',\n",
              " 115: '24210deb-1e4f-4c43-90ed-e41e010c870c',\n",
              " 116: '13b63736-9ddc-4956-a159-73935c34a09f',\n",
              " 117: '2c2e130d-7722-4b57-a47b-cc5a3c926bfa',\n",
              " 118: '5d3c1448-053e-4ed0-9413-c897ee5f1b4b',\n",
              " 119: '2ad893f4-7605-46d8-8cf0-5c185e027ed2',\n",
              " 120: '24aa0ccd-0e6b-4ddc-b3fd-8df4d76e580d',\n",
              " 121: 'ec4be9dc-e362-4594-b23f-c69a3798b0ec',\n",
              " 122: '98bd216b-a4cb-49d8-8deb-f3f20a253885',\n",
              " 123: '9e25fd45-d187-4753-bfc1-c02b7a4afd67',\n",
              " 124: '909e57bd-8fc9-4863-bd3a-9d8c2de842a1',\n",
              " 125: '6c1d2672-a741-43b2-91c1-c7d97cce18d3',\n",
              " 126: 'e2c6aa76-247d-418a-9b00-a9adebe7d005',\n",
              " 127: '8be3153d-a17b-4dc5-8793-53431ae26ad2',\n",
              " 128: 'bf267fce-51ba-4937-ba93-2a92c04fd624',\n",
              " 129: 'b6da4327-6db0-47fb-a192-54cea0f55c25',\n",
              " 130: '4011a283-e39e-40a8-a672-33d7c8173f11',\n",
              " 131: 'c405034b-7a0b-466e-b659-ebd08eedc0de',\n",
              " 132: 'f45cc2f6-1aa7-4152-90a5-c8e980aa20f2',\n",
              " 133: '13e6adc5-309b-4cb1-b5af-3ffd741babfd',\n",
              " 134: '0c357dd8-a57a-4b52-b498-bdc0ceb25c7c',\n",
              " 135: '97952b3f-fb12-426d-bb9c-0e5750e78d47',\n",
              " 136: 'f2dc0e85-58d0-4000-86e7-f87d1f67ffbf',\n",
              " 137: 'e9a764e3-f2b7-4b65-8bc4-8cb0ac53df30',\n",
              " 138: '7d3f5602-1d96-41e9-99c2-ebcd966a480a',\n",
              " 139: '959179ed-d97b-4841-9900-283be04a253c',\n",
              " 140: 'd7b9b916-1431-462a-af0f-703ea8014f8f',\n",
              " 141: '1c31fb8c-97b4-43ed-96c9-46f53ea49f1f',\n",
              " 142: '85c2421a-bb27-4d64-bd35-a31793c60765',\n",
              " 143: 'ff6a0fa8-2dfd-4120-8458-3932d37a6c15',\n",
              " 144: '7b2ec4c7-e459-429b-9e8e-0a9705e82feb',\n",
              " 145: '413bb6ae-8303-4b53-b35d-1227a31c3c4c'}"
            ]
          },
          "execution_count": 16,
          "metadata": {},
          "output_type": "execute_result"
        }
      ],
      "source": [
        "vector_store.index_to_docstore_id"
      ]
    },
    {
      "cell_type": "code",
      "execution_count": 17,
      "metadata": {
        "colab": {
          "base_uri": "https://localhost:8080/"
        },
        "id": "8zAWn-2ZXERQ",
        "outputId": "954be0c2-ac17-4e13-96e7-68c09339fad7"
      },
      "outputs": [
        {
          "data": {
            "text/plain": [
              "[Document(id='5858d8a2-f00c-4f03-a4f7-a8f2747f1c37', metadata={}, page_content='Description: little gem lettuce, pepperoni, chickpeas, green olives, pistachios, oregano, red wine vinaigrette, pecorino\\nPastaria St. Louis Restaurant has menu item, Shaved Kale in Soups and Salads priced at 11.95 dollars.\\nDescription: creamy anchovy dressing, pecorino, bread crumbs\\nPastaria St. Louis Restaurant has menu item, Arugula & Endive in Soups and Salads priced at 11.95 dollars.\\nDescription: white wine vinaigrette, dried cherry, pistachio, goat cheese, breadcrumbs\\nPastaria St. Louis Restaurant has menu item, Brussels Sprouts in Vegetables priced at 10.95 dollars.\\nDescription: lemon, calabrian chili flake, garlic\\nPastaria St. Louis Restaurant has menu item, Roasted Heirloom Carrots in Vegetables priced at 9.95 dollars.\\nDescription: confit leeks, herbs, toasted breadcrumb\\nPastaria St. Louis Restaurant has menu item, Crispy Risotto Balls in Appetizers priced at 12.95 dollars.\\nDescription: mozzarella, grana padano, herb aioli, marinara')]"
            ]
          },
          "execution_count": 17,
          "metadata": {},
          "output_type": "execute_result"
        }
      ],
      "source": [
        "vector_store.get_by_ids(['5858d8a2-f00c-4f03-a4f7-a8f2747f1c37'])"
      ]
    },
    {
      "cell_type": "markdown",
      "metadata": {
        "id": "aL1jFAeif5iY"
      },
      "source": [
        "## Step 2 - Retrieval"
      ]
    },
    {
      "cell_type": "code",
      "execution_count": null,
      "metadata": {
        "id": "YLUQtUMEXHJF"
      },
      "outputs": [],
      "source": [
        "retriever = vector_store.as_retriever(search_type=\"similarity\", search_kwargs={\"k\": 3})"
      ]
    },
    {
      "cell_type": "code",
      "execution_count": 19,
      "metadata": {
        "colab": {
          "base_uri": "https://localhost:8080/"
        },
        "collapsed": true,
        "id": "EI3mOpggXIsr",
        "outputId": "50d29b8a-7849-40cd-b197-abb031295732"
      },
      "outputs": [
        {
          "data": {
            "text/plain": [
              "[Document(id='f45cc2f6-1aa7-4152-90a5-c8e980aa20f2', metadata={}, page_content=\"Smith & Wollensky Restaurant has menu item HAMACHI CRUDO in category STARTERS priced at $26.00.\\nHAMACHI CRUDO description: citrus, green apple, cucumber, tomato, passion fruit sauce\\nSmith & Wollensky Restaurant has menu item AMERICAN WAGYU CARPACCIO* in category STARTERS priced at $27.00.\\nAMERICAN WAGYU CARPACCIO* description: SRF Wagyu tenderloin, pickled mushrooms, black truffle aioli, shaved Parmesan\\nSmith & Wollensky Restaurant has menu item BURRATA in category STARTERS priced at $19.00.\\nBURRATA description: herb pesto, heirloom tomato, Marcona almond\\nSmith & Wollensky Restaurant's BURRATA add-on add prosciutto at $6.00\\nSmith & Wollensky Restaurant has menu item JUMBO SHRIMP COCKTAIL in category SHELLFISH priced at .\\nSmith & Wollensky Restaurant's JUMBO SHRIMP COCKTAIL add-on 3 pieces at $19.00\\nSmith & Wollensky Restaurant's JUMBO SHRIMP COCKTAIL add-on 5 pieces at $30.00\"),\n",
              " Document(id='959179ed-d97b-4841-9900-283be04a253c', metadata={}, page_content='Smith & Wollensky Restaurant has menu item USDA PRIME DRY-AGED PORTERHOUSE FOR TWO - 42 OZ in category USDA PRIME CLASSIC STEAKHOUSE CUTS* priced at $190.00.\\nSmith & Wollensky Restaurant has menu item SIGNATURE USDA PRIME DRY-AGED BONE-IN RIB EYE 28 OZ in category USDA PRIME CLASSIC STEAKHOUSE CUTS* priced at $105.00.\\nSmith & Wollensky Restaurant has menu item CAJUN MARINATED USDA PRIME DRY-AGED BONE-IN RIB EYE 28 OZ in category USDA PRIME CLASSIC STEAKHOUSE CUTS* priced at $105.00.\\nSmith & Wollensky Restaurant has menu item USDA PRIME DRY-AGED T-BONE 26 OZ in category USDA PRIME CLASSIC STEAKHOUSE CUTS* priced at $90.00.\\nSmith & Wollensky Restaurant has menu item USDA PRIME DRY-AGED BONE-IN NEW YORK CUT 21 OZ in category USDA PRIME CLASSIC STEAKHOUSE CUTS* priced at $86.00.\\nSmith & Wollensky Restaurant has menu item USDA PRIME BONELESS NEW YORK STRIP 16 OZ in category USDA PRIME CLASSIC STEAKHOUSE CUTS* priced at $78.00.'),\n",
              " Document(id='ff6a0fa8-2dfd-4120-8458-3932d37a6c15', metadata={}, page_content='Smith & Wollensky Restaurant has menu item COFFEE & COCOA RUB in category STEAK ENHANCEMENTS priced at $3.00.\\nSmith & Wollensky Restaurant has menu item BEARNAISE SAUCE in category STEAK ENHANCEMENTS priced at $5.00.\\nSmith & Wollensky Restaurant has menu item HOLLANDAISE SAUCE in category STEAK ENHANCEMENTS priced at $5.00.\\nSmith & Wollensky Restaurant has menu item BRANDY PEPPERCORN SAUCE in category STEAK ENHANCEMENTS priced at $8.00.\\nSmith & Wollensky Restaurant has menu item GORGONZOLA CRUSTED in category STEAK ENHANCEMENTS priced at $10.00.\\nSmith & Wollensky Restaurant has menu item ROASTED BONE MARROW in category STEAK ENHANCEMENTS priced at $12.00.\\nSmith & Wollensky Restaurant has menu item MAINE LOBSTER TAIL (EACH) in category STEAK ENHANCEMENTS priced at $21.00.\\nSmith & Wollensky Restaurant has menu item TRUFFLED MAC & CHEESE in category CLASSIC & NEW SIDES priced at $22.00.'),\n",
              " Document(id='0c357dd8-a57a-4b52-b498-bdc0ceb25c7c', metadata={}, page_content='Smith & Wollensky Restaurant has menu item SHELLFISH TOWER FOR FOUR* in category SHELLFISH priced at $143.00.\\nSHELLFISH TOWER FOR FOUR* description: Maine lobster tail, crab cocktail, jumbo shrimp, oysters, octopus cocktail\\nSmith & Wollensky Restaurant has menu item SHELLFISH TOWER FOR SIX* in category SHELLFISH priced at $185.00.\\nSHELLFISH TOWER FOR SIX* description: Maine lobster tail, crab cocktail, jumbo shrimp, oysters, octopus cocktail, tuna tartare\\nSmith & Wollensky Restaurant has menu item CLASSIC SPLIT PEA SOUP in category SOUP & SALADS priced at $10.00.\\nCLASSIC SPLIT PEA SOUP description: the Smith & Wollensky original recipe\\nSmith & Wollensky Restaurant has menu item CLAM CHOWDER in category SOUP & SALADS priced at $14.00.\\nCLAM CHOWDER description: New England style\\nSmith & Wollensky Restaurant has menu item TOMATO & ONION SALAD in category SOUP & SALADS priced at $16.00.\\nTOMATO & ONION SALAD description: whipped feta, Marcona almonds')]"
            ]
          },
          "execution_count": 19,
          "metadata": {},
          "output_type": "execute_result"
        }
      ],
      "source": [
        "retriever.invoke('What add-on options are available for BURRATA at Smith & Wollensky and what are their prices?')"
      ]
    },
    {
      "cell_type": "markdown",
      "metadata": {
        "id": "mHfO1z5HgAPw"
      },
      "source": [
        "## Step 3 - Augmentation"
      ]
    },
    {
      "cell_type": "code",
      "execution_count": null,
      "metadata": {
        "colab": {
          "base_uri": "https://localhost:8080/",
          "height": 348,
          "referenced_widgets": [
            "df40ce46272d4f08a5f52b6aaf2d8d61",
            "2b72ff034bc2472faf26ee93e4836cb7",
            "1cbed3498b184b6994ec34948575299e",
            "4487e57607614c2d872ab7930f221743",
            "b8e3199e2a4843bd93434235656fe53f",
            "84e8532930ee47379f769e6296c08121",
            "ddd9dee5be674868a9255d9ed9a2bd4a",
            "355f9dfcb1d0406a9ac149bbc315f057",
            "bd1245752ba543598df187a3f9525bd3",
            "18931703d6344423ad6ce8e01cd548cb",
            "62679b8994834179aa38cfc01fdb2638",
            "d7ef17370d924fe2a1789e35ac227f91",
            "f2c684f72a584f63baad4bff26ad401a",
            "d5c691af57094039b773330c3bf0d7ac",
            "54ab062c63344bb5b90ff9bd836eac6c",
            "9c3023511d6845d4b67bc069a661acb7",
            "9e3ea7af5e4e4836a69b1d733f54bb6d",
            "63c60f1ba9104c4d897ffa455ff90a5e",
            "d068723c4cfd431d8c1a25913766b1da",
            "aa78eb811bae4863b6e41e2b592fabd6",
            "b1105c8fa17e4d7eba1b1d2fc3226507",
            "3cd5490e8d3646938a4d15ca2d1a3b2d",
            "0f7d754677d14733bd8f29e3a2c008bf",
            "1bd471311f824d7983359661b4ab9abe",
            "0aadc252d52a41f484fe39c4042bdf63",
            "a469531cc6f3479282eaa0a1681e4642",
            "5ffa99b1902a46dd80471dcc74bdc76f",
            "6e7e8906873145daba39dd91735b7c8e",
            "7bdeb64140c34a6abe6db3283c4694fa",
            "1eeb57a2a05b4332a17448edf5a2681e",
            "765bd7bc360e4cfd8d4420f9ec05c701",
            "35831318539d4570b6ae51e7aee7749f",
            "9a96b4abb6c4494ea07761c2a86e1f7a",
            "a4bc728ca25f469a9e4e8c29da5a6348",
            "bad2e9e2c0bd48f89eef70af49ccd047",
            "8cc6d9d02f8a4991a887618d321802ea",
            "e81a35e3f6b44136b425e48de9c92b56",
            "87958cc946f746f2a346c41fa3adf61d",
            "3b607967ea6c4f98aee227cb4a97e61a",
            "a9650c9d7df54a47aec4a4122e31524a",
            "f39d0a1c0e394e11b8f637cf80113099",
            "b577d181efd14acc908ed9f485d0673c",
            "092430d9436f404e8b84c8bb1d184545",
            "152c18f365f146d88897c973006a8304",
            "7750b894e627419b8312d7a111ebfc10",
            "0a038ddcfc0a4685aaa0d1f15b5314fd",
            "1d165af9e5254327a79fb49391703459",
            "c7c649999afc47e4b905e73ea8bc2e0b",
            "d593cda477e14bbab0f7dada4e8d77a9",
            "81b300b2235f47dda9da1366bece287c",
            "a727b9b1af7d43ee9eaf1d4c91605add",
            "0c0020da738b40c0a9d807c122e73ebd",
            "9d97ce170e7a469598b747084affe23b",
            "102fc298864e480bbd3755b3904b1508",
            "36594a98e51b48f087879609ccc21847",
            "36f266e140f74c508556917f7e2a009e",
            "c8d5a27353e5474da6b80712507437ce",
            "da011218f2f74ad68b68a6d2ed606b17",
            "72f6c3a14fd0446b8e684e746a7ec1ec",
            "681af09a3e8b453dbf4917d4c356d538",
            "aa9917b4de7c4e44918398bbf9a48e38",
            "d12df3885aed414baac683fd05809919",
            "c7abd5c88cfe4fcdb230f525e40928ec",
            "e21734fac3ec409e8da044d8ddc98c0d",
            "a0a621d0cc2e42f98c981457a95974cf",
            "43f608230c3f4ca0be0a4f212aedaf7a",
            "d40887670a1a4096af5703b09e72a538",
            "bbb7a04f942f4a76a06670cdbc9a4921",
            "2939437aa32a4dd7999cef3a0ab9c197",
            "24ba7301a81348c1afdd911c98d01086",
            "de907cbabe86452a81926f34dceac992",
            "ae787ec8405a49f7b71c4ca3326ed9b8",
            "8f8042987f344011b565c6e4516a410c",
            "2859d8e130564e34b3dd1158c0e40df3",
            "2585bd98d87d47f7b6677749efb42489",
            "4fae6ac157ea4e6094ec4699de030643",
            "ce9624e790074695be24127e2a1e327f"
          ]
        },
        "id": "vMh05-exYZuC",
        "outputId": "2dbc70bb-5372-4c9a-bf1e-90ec2e66bcd3"
      },
      "outputs": [
        {
          "data": {
            "application/vnd.jupyter.widget-view+json": {
              "model_id": "df40ce46272d4f08a5f52b6aaf2d8d61",
              "version_major": 2,
              "version_minor": 0
            },
            "text/plain": [
              "config.json:   0%|          | 0.00/1.40k [00:00<?, ?B/s]"
            ]
          },
          "metadata": {},
          "output_type": "display_data"
        },
        {
          "name": "stderr",
          "output_type": "stream",
          "text": [
            "Xet Storage is enabled for this repo, but the 'hf_xet' package is not installed. Falling back to regular HTTP download. For better performance, install the package with: `pip install huggingface_hub[hf_xet]` or `pip install hf_xet`\n",
            "WARNING:huggingface_hub.file_download:Xet Storage is enabled for this repo, but the 'hf_xet' package is not installed. Falling back to regular HTTP download. For better performance, install the package with: `pip install huggingface_hub[hf_xet]` or `pip install hf_xet`\n"
          ]
        },
        {
          "data": {
            "application/vnd.jupyter.widget-view+json": {
              "model_id": "d7ef17370d924fe2a1789e35ac227f91",
              "version_major": 2,
              "version_minor": 0
            },
            "text/plain": [
              "model.safetensors:   0%|          | 0.00/308M [00:00<?, ?B/s]"
            ]
          },
          "metadata": {},
          "output_type": "display_data"
        },
        {
          "data": {
            "application/vnd.jupyter.widget-view+json": {
              "model_id": "0f7d754677d14733bd8f29e3a2c008bf",
              "version_major": 2,
              "version_minor": 0
            },
            "text/plain": [
              "generation_config.json:   0%|          | 0.00/147 [00:00<?, ?B/s]"
            ]
          },
          "metadata": {},
          "output_type": "display_data"
        },
        {
          "data": {
            "application/vnd.jupyter.widget-view+json": {
              "model_id": "a4bc728ca25f469a9e4e8c29da5a6348",
              "version_major": 2,
              "version_minor": 0
            },
            "text/plain": [
              "tokenizer_config.json:   0%|          | 0.00/2.54k [00:00<?, ?B/s]"
            ]
          },
          "metadata": {},
          "output_type": "display_data"
        },
        {
          "name": "stderr",
          "output_type": "stream",
          "text": [
            "Xet Storage is enabled for this repo, but the 'hf_xet' package is not installed. Falling back to regular HTTP download. For better performance, install the package with: `pip install huggingface_hub[hf_xet]` or `pip install hf_xet`\n",
            "WARNING:huggingface_hub.file_download:Xet Storage is enabled for this repo, but the 'hf_xet' package is not installed. Falling back to regular HTTP download. For better performance, install the package with: `pip install huggingface_hub[hf_xet]` or `pip install hf_xet`\n"
          ]
        },
        {
          "data": {
            "application/vnd.jupyter.widget-view+json": {
              "model_id": "7750b894e627419b8312d7a111ebfc10",
              "version_major": 2,
              "version_minor": 0
            },
            "text/plain": [
              "spiece.model:   0%|          | 0.00/792k [00:00<?, ?B/s]"
            ]
          },
          "metadata": {},
          "output_type": "display_data"
        },
        {
          "data": {
            "application/vnd.jupyter.widget-view+json": {
              "model_id": "36f266e140f74c508556917f7e2a009e",
              "version_major": 2,
              "version_minor": 0
            },
            "text/plain": [
              "tokenizer.json:   0%|          | 0.00/2.42M [00:00<?, ?B/s]"
            ]
          },
          "metadata": {},
          "output_type": "display_data"
        },
        {
          "data": {
            "application/vnd.jupyter.widget-view+json": {
              "model_id": "d40887670a1a4096af5703b09e72a538",
              "version_major": 2,
              "version_minor": 0
            },
            "text/plain": [
              "special_tokens_map.json:   0%|          | 0.00/2.20k [00:00<?, ?B/s]"
            ]
          },
          "metadata": {},
          "output_type": "display_data"
        },
        {
          "name": "stderr",
          "output_type": "stream",
          "text": [
            "Device set to use cpu\n"
          ]
        }
      ],
      "source": [
        "from transformers import pipeline\n",
        "from langchain_huggingface import HuggingFacePipeline\n",
        "\n",
        "# hf_model = pipeline(\n",
        "#     model=\"google/flan-t5-small\",\n",
        "#     task=\"text2text-generation\",\n",
        "#     device=0,\n",
        "#     max_new_tokens=64,\n",
        "#     temperature=0.7\n",
        "# )\n",
        "\n",
        "hf_model = pipeline(\n",
        "    \"text-generation\",\n",
        "    model=\"TheBloke/Mistral-7B-Instruct-v0.1-GGUF\",  # for example\n",
        "    trust_remote_code=True,\n",
        "    device_map=\"auto\",\n",
        "    load_in_8bit=True,\n",
        "    max_new_tokens=128,\n",
        "    temperature=0.2\n",
        ")\n",
        "\n",
        "llm = HuggingFacePipeline(pipeline=hf_model)\n",
        "\n",
        "## Works but less tokens"
      ]
    },
    {
      "cell_type": "code",
      "execution_count": 26,
      "metadata": {
        "id": "rW1hhNgmYpb3"
      },
      "outputs": [],
      "source": [
        "from langchain_huggingface import HuggingFaceEndpoint\n",
        "repo_id = \"mistralai/Mistral-7B-Instruct-v0.2\"\n",
        "\n",
        "llm = HuggingFaceEndpoint(\n",
        "    repo_id=repo_id,\n",
        "    task=\"text-generation\",\n",
        "    model_kwargs={\"max_length\": 128},\n",
        "    temperature=0.5,\n",
        "    huggingfacehub_api_token=HUGGINGFACEHUB_API_TOKEN,\n",
        ")\n",
        "\n",
        "## Does not work"
      ]
    },
    {
      "cell_type": "code",
      "execution_count": 33,
      "metadata": {
        "id": "AAQp4V_AYrkU"
      },
      "outputs": [],
      "source": [
        "from langchain_huggingface import HuggingFaceEndpoint\n",
        "repo_id = \"distilbert/distilgpt2\"\n",
        "\n",
        "llm = HuggingFaceEndpoint(\n",
        "    repo_id=repo_id,\n",
        "    task=\"text-generation\",\n",
        "    model_kwargs={\"max_length\": 128},\n",
        "    temperature=0.5,\n",
        "    huggingfacehub_api_token=HUGGINGFACEHUB_API_TOKEN,\n",
        ")\n",
        "\n",
        "# Input validation error: `inputs` tokens + `max_new_tokens` must be <= 1024. Given: 1248 `inputs` tokens and 512 `max_new_tokens`\n",
        "# {\"error\":\"Input validation error: `inputs` tokens + `max_new_tokens` must be <= 1024. Given: 1248 `inputs` tokens and 512 `max_new_tokens`\",\"error_type\":\"validation\"}"
      ]
    },
    {
      "cell_type": "code",
      "execution_count": 39,
      "metadata": {
        "colab": {
          "base_uri": "https://localhost:8080/"
        },
        "id": "UOKWnBdJYvsa",
        "outputId": "489f566e-8810-4beb-8fac-80c67f4b3d87"
      },
      "outputs": [
        {
          "name": "stderr",
          "output_type": "stream",
          "text": [
            "<ipython-input-39-31936d142683>:3: LangChainDeprecationWarning: The class `HuggingFaceHub` was deprecated in LangChain 0.0.21 and will be removed in 1.0. An updated version of the class exists in the :class:`~langchain-huggingface package and should be used instead. To use it run `pip install -U :class:`~langchain-huggingface` and import as `from :class:`~langchain_huggingface import HuggingFaceEndpoint``.\n",
            "  llm = HuggingFaceHub(\n"
          ]
        }
      ],
      "source": [
        "from langchain import HuggingFaceHub\n",
        "\n",
        "llm = HuggingFaceHub(\n",
        "    repo_id=\"google/flan-t5-small\",\n",
        "    task=\"text-generation\",               # generic text‐generation pipeline\n",
        "    model_kwargs={\"max_new_tokens\":64,    # ≤ model’s max (e.g. 250)\n",
        "                  \"temperature\":0.7},\n",
        "    huggingfacehub_api_token=HUGGINGFACEHUB_API_TOKEN,\n",
        ")\n",
        "\n",
        "# Works"
      ]
    },
    {
      "cell_type": "code",
      "execution_count": 40,
      "metadata": {
        "id": "h1ceSfHpYc8J"
      },
      "outputs": [],
      "source": [
        "prompt = PromptTemplate(\n",
        "    template=\"\"\"\n",
        "      You are a helpful assistant.\n",
        "      Answer ONLY from the provided restaurant context.\n",
        "      If the context is insufficient, just say you don't know.\n",
        "\n",
        "      {context}\n",
        "      Question: {question}\n",
        "    \"\"\",\n",
        "    input_variables = ['context', 'question']\n",
        ")"
      ]
    },
    {
      "cell_type": "code",
      "execution_count": 41,
      "metadata": {
        "id": "MvPnDBMCYgF4"
      },
      "outputs": [],
      "source": [
        "question          = \"What add-on options are available for BURRATA at Smith & Wollensky and what are their prices?\"\n",
        "retrieved_docs    = retriever.invoke(question)"
      ]
    },
    {
      "cell_type": "code",
      "execution_count": 42,
      "metadata": {
        "colab": {
          "base_uri": "https://localhost:8080/",
          "height": 139
        },
        "id": "FjPqCaQyYiIP",
        "outputId": "5dc9d219-8887-4fce-b885-3912b7fff1c6"
      },
      "outputs": [
        {
          "data": {
            "application/vnd.google.colaboratory.intrinsic+json": {
              "type": "string"
            },
            "text/plain": [
              "\"Smith & Wollensky Restaurant has menu item HAMACHI CRUDO in category STARTERS priced at $26.00.\\nHAMACHI CRUDO description: citrus, green apple, cucumber, tomato, passion fruit sauce\\nSmith & Wollensky Restaurant has menu item AMERICAN WAGYU CARPACCIO* in category STARTERS priced at $27.00.\\nAMERICAN WAGYU CARPACCIO* description: SRF Wagyu tenderloin, pickled mushrooms, black truffle aioli, shaved Parmesan\\nSmith & Wollensky Restaurant has menu item BURRATA in category STARTERS priced at $19.00.\\nBURRATA description: herb pesto, heirloom tomato, Marcona almond\\nSmith & Wollensky Restaurant's BURRATA add-on add prosciutto at $6.00\\nSmith & Wollensky Restaurant has menu item JUMBO SHRIMP COCKTAIL in category SHELLFISH priced at .\\nSmith & Wollensky Restaurant's JUMBO SHRIMP COCKTAIL add-on 3 pieces at $19.00\\nSmith & Wollensky Restaurant's JUMBO SHRIMP COCKTAIL add-on 5 pieces at $30.00\\n\\nSmith & Wollensky Restaurant has menu item USDA PRIME DRY-AGED PORTERHOUSE FOR TWO - 42 OZ in category USDA PRIME CLASSIC STEAKHOUSE CUTS* priced at $190.00.\\nSmith & Wollensky Restaurant has menu item SIGNATURE USDA PRIME DRY-AGED BONE-IN RIB EYE 28 OZ in category USDA PRIME CLASSIC STEAKHOUSE CUTS* priced at $105.00.\\nSmith & Wollensky Restaurant has menu item CAJUN MARINATED USDA PRIME DRY-AGED BONE-IN RIB EYE 28 OZ in category USDA PRIME CLASSIC STEAKHOUSE CUTS* priced at $105.00.\\nSmith & Wollensky Restaurant has menu item USDA PRIME DRY-AGED T-BONE 26 OZ in category USDA PRIME CLASSIC STEAKHOUSE CUTS* priced at $90.00.\\nSmith & Wollensky Restaurant has menu item USDA PRIME DRY-AGED BONE-IN NEW YORK CUT 21 OZ in category USDA PRIME CLASSIC STEAKHOUSE CUTS* priced at $86.00.\\nSmith & Wollensky Restaurant has menu item USDA PRIME BONELESS NEW YORK STRIP 16 OZ in category USDA PRIME CLASSIC STEAKHOUSE CUTS* priced at $78.00.\\n\\nSmith & Wollensky Restaurant has menu item COFFEE & COCOA RUB in category STEAK ENHANCEMENTS priced at $3.00.\\nSmith & Wollensky Restaurant has menu item BEARNAISE SAUCE in category STEAK ENHANCEMENTS priced at $5.00.\\nSmith & Wollensky Restaurant has menu item HOLLANDAISE SAUCE in category STEAK ENHANCEMENTS priced at $5.00.\\nSmith & Wollensky Restaurant has menu item BRANDY PEPPERCORN SAUCE in category STEAK ENHANCEMENTS priced at $8.00.\\nSmith & Wollensky Restaurant has menu item GORGONZOLA CRUSTED in category STEAK ENHANCEMENTS priced at $10.00.\\nSmith & Wollensky Restaurant has menu item ROASTED BONE MARROW in category STEAK ENHANCEMENTS priced at $12.00.\\nSmith & Wollensky Restaurant has menu item MAINE LOBSTER TAIL (EACH) in category STEAK ENHANCEMENTS priced at $21.00.\\nSmith & Wollensky Restaurant has menu item TRUFFLED MAC & CHEESE in category CLASSIC & NEW SIDES priced at $22.00.\\n\\nSmith & Wollensky Restaurant has menu item SHELLFISH TOWER FOR FOUR* in category SHELLFISH priced at $143.00.\\nSHELLFISH TOWER FOR FOUR* description: Maine lobster tail, crab cocktail, jumbo shrimp, oysters, octopus cocktail\\nSmith & Wollensky Restaurant has menu item SHELLFISH TOWER FOR SIX* in category SHELLFISH priced at $185.00.\\nSHELLFISH TOWER FOR SIX* description: Maine lobster tail, crab cocktail, jumbo shrimp, oysters, octopus cocktail, tuna tartare\\nSmith & Wollensky Restaurant has menu item CLASSIC SPLIT PEA SOUP in category SOUP & SALADS priced at $10.00.\\nCLASSIC SPLIT PEA SOUP description: the Smith & Wollensky original recipe\\nSmith & Wollensky Restaurant has menu item CLAM CHOWDER in category SOUP & SALADS priced at $14.00.\\nCLAM CHOWDER description: New England style\\nSmith & Wollensky Restaurant has menu item TOMATO & ONION SALAD in category SOUP & SALADS priced at $16.00.\\nTOMATO & ONION SALAD description: whipped feta, Marcona almonds\""
            ]
          },
          "execution_count": 42,
          "metadata": {},
          "output_type": "execute_result"
        }
      ],
      "source": [
        "context_text = \"\\n\\n\".join(doc.page_content for doc in retrieved_docs)\n",
        "context_text"
      ]
    },
    {
      "cell_type": "code",
      "execution_count": 43,
      "metadata": {
        "id": "yg6YgBpTYj4Y"
      },
      "outputs": [],
      "source": [
        "final_prompt = prompt.invoke({\"context\": context_text, \"question\": question})"
      ]
    },
    {
      "cell_type": "markdown",
      "metadata": {
        "id": "wW74C32ggKpR"
      },
      "source": [
        "## Step 4 - Generation"
      ]
    },
    {
      "cell_type": "code",
      "execution_count": 44,
      "metadata": {
        "colab": {
          "base_uri": "https://localhost:8080/"
        },
        "id": "S9ntpt2FYloW",
        "outputId": "916ba16f-85be-4be8-848a-195a0b289308"
      },
      "outputs": [
        {
          "name": "stderr",
          "output_type": "stream",
          "text": [
            "/usr/local/lib/python3.11/dist-packages/huggingface_hub/utils/_deprecation.py:131: FutureWarning: 'post' (from 'huggingface_hub.inference._client') is deprecated and will be removed from version '0.31.0'. Making direct POST requests to the inference server is not supported anymore. Please use task methods instead (e.g. `InferenceClient.chat_completion`). If your use case is not supported, please open an issue in https://github.com/huggingface/huggingface_hub.\n",
            "  warnings.warn(warning_message, FutureWarning)\n"
          ]
        },
        {
          "name": "stdout",
          "output_type": "stream",
          "text": [
            "answer is: add prosciutto at $6.00\n"
          ]
        }
      ],
      "source": [
        "answer = llm.invoke(final_prompt)\n",
        "print(\"answer is:\", answer)"
      ]
    },
    {
      "cell_type": "markdown",
      "metadata": {
        "id": "qzo1kRafgO-0"
      },
      "source": [
        "## Building a Chain"
      ]
    },
    {
      "cell_type": "code",
      "execution_count": 45,
      "metadata": {
        "id": "plgIBvrygSYN"
      },
      "outputs": [],
      "source": [
        "from langchain_core.runnables import RunnableParallel, RunnablePassthrough, RunnableLambda\n",
        "from langchain_core.output_parsers import StrOutputParser"
      ]
    },
    {
      "cell_type": "code",
      "execution_count": 46,
      "metadata": {
        "id": "WFRayZSUgUYk"
      },
      "outputs": [],
      "source": [
        "def format_docs(retrieved_docs):\n",
        "  context_text = \"\\n\\n\".join(doc.page_content for doc in retrieved_docs)\n",
        "  return context_text"
      ]
    },
    {
      "cell_type": "code",
      "execution_count": 47,
      "metadata": {
        "id": "_epnhLdlgYC9"
      },
      "outputs": [],
      "source": [
        "parallel_chain = RunnableParallel({\n",
        "    'context': retriever | RunnableLambda(format_docs),\n",
        "    'question': RunnablePassthrough()\n",
        "})"
      ]
    },
    {
      "cell_type": "code",
      "execution_count": 48,
      "metadata": {
        "colab": {
          "base_uri": "https://localhost:8080/"
        },
        "id": "uccgy4xJgZei",
        "outputId": "66073ba1-9941-4c80-aff1-1fb3a07edeea"
      },
      "outputs": [
        {
          "data": {
            "text/plain": [
              "{'context': \"Smith & Wollensky Restaurant has menu item HAMACHI CRUDO in category STARTERS priced at $26.00.\\nHAMACHI CRUDO description: citrus, green apple, cucumber, tomato, passion fruit sauce\\nSmith & Wollensky Restaurant has menu item AMERICAN WAGYU CARPACCIO* in category STARTERS priced at $27.00.\\nAMERICAN WAGYU CARPACCIO* description: SRF Wagyu tenderloin, pickled mushrooms, black truffle aioli, shaved Parmesan\\nSmith & Wollensky Restaurant has menu item BURRATA in category STARTERS priced at $19.00.\\nBURRATA description: herb pesto, heirloom tomato, Marcona almond\\nSmith & Wollensky Restaurant's BURRATA add-on add prosciutto at $6.00\\nSmith & Wollensky Restaurant has menu item JUMBO SHRIMP COCKTAIL in category SHELLFISH priced at .\\nSmith & Wollensky Restaurant's JUMBO SHRIMP COCKTAIL add-on 3 pieces at $19.00\\nSmith & Wollensky Restaurant's JUMBO SHRIMP COCKTAIL add-on 5 pieces at $30.00\\n\\nSmith & Wollensky Restaurant has menu item USDA PRIME DRY-AGED PORTERHOUSE FOR TWO - 42 OZ in category USDA PRIME CLASSIC STEAKHOUSE CUTS* priced at $190.00.\\nSmith & Wollensky Restaurant has menu item SIGNATURE USDA PRIME DRY-AGED BONE-IN RIB EYE 28 OZ in category USDA PRIME CLASSIC STEAKHOUSE CUTS* priced at $105.00.\\nSmith & Wollensky Restaurant has menu item CAJUN MARINATED USDA PRIME DRY-AGED BONE-IN RIB EYE 28 OZ in category USDA PRIME CLASSIC STEAKHOUSE CUTS* priced at $105.00.\\nSmith & Wollensky Restaurant has menu item USDA PRIME DRY-AGED T-BONE 26 OZ in category USDA PRIME CLASSIC STEAKHOUSE CUTS* priced at $90.00.\\nSmith & Wollensky Restaurant has menu item USDA PRIME DRY-AGED BONE-IN NEW YORK CUT 21 OZ in category USDA PRIME CLASSIC STEAKHOUSE CUTS* priced at $86.00.\\nSmith & Wollensky Restaurant has menu item USDA PRIME BONELESS NEW YORK STRIP 16 OZ in category USDA PRIME CLASSIC STEAKHOUSE CUTS* priced at $78.00.\\n\\nSmith & Wollensky Restaurant has menu item COFFEE & COCOA RUB in category STEAK ENHANCEMENTS priced at $3.00.\\nSmith & Wollensky Restaurant has menu item BEARNAISE SAUCE in category STEAK ENHANCEMENTS priced at $5.00.\\nSmith & Wollensky Restaurant has menu item HOLLANDAISE SAUCE in category STEAK ENHANCEMENTS priced at $5.00.\\nSmith & Wollensky Restaurant has menu item BRANDY PEPPERCORN SAUCE in category STEAK ENHANCEMENTS priced at $8.00.\\nSmith & Wollensky Restaurant has menu item GORGONZOLA CRUSTED in category STEAK ENHANCEMENTS priced at $10.00.\\nSmith & Wollensky Restaurant has menu item ROASTED BONE MARROW in category STEAK ENHANCEMENTS priced at $12.00.\\nSmith & Wollensky Restaurant has menu item MAINE LOBSTER TAIL (EACH) in category STEAK ENHANCEMENTS priced at $21.00.\\nSmith & Wollensky Restaurant has menu item TRUFFLED MAC & CHEESE in category CLASSIC & NEW SIDES priced at $22.00.\\n\\nSmith & Wollensky Restaurant has menu item SHELLFISH TOWER FOR FOUR* in category SHELLFISH priced at $143.00.\\nSHELLFISH TOWER FOR FOUR* description: Maine lobster tail, crab cocktail, jumbo shrimp, oysters, octopus cocktail\\nSmith & Wollensky Restaurant has menu item SHELLFISH TOWER FOR SIX* in category SHELLFISH priced at $185.00.\\nSHELLFISH TOWER FOR SIX* description: Maine lobster tail, crab cocktail, jumbo shrimp, oysters, octopus cocktail, tuna tartare\\nSmith & Wollensky Restaurant has menu item CLASSIC SPLIT PEA SOUP in category SOUP & SALADS priced at $10.00.\\nCLASSIC SPLIT PEA SOUP description: the Smith & Wollensky original recipe\\nSmith & Wollensky Restaurant has menu item CLAM CHOWDER in category SOUP & SALADS priced at $14.00.\\nCLAM CHOWDER description: New England style\\nSmith & Wollensky Restaurant has menu item TOMATO & ONION SALAD in category SOUP & SALADS priced at $16.00.\\nTOMATO & ONION SALAD description: whipped feta, Marcona almonds\",\n",
              " 'question': 'What add-on options are available for BURRATA at Smith & Wollensky and what are their prices?'}"
            ]
          },
          "execution_count": 48,
          "metadata": {},
          "output_type": "execute_result"
        }
      ],
      "source": [
        "parallel_chain.invoke('What add-on options are available for BURRATA at Smith & Wollensky and what are their prices?')"
      ]
    },
    {
      "cell_type": "code",
      "execution_count": 49,
      "metadata": {
        "id": "xDvv1QwJghM0"
      },
      "outputs": [],
      "source": [
        "parser = StrOutputParser()"
      ]
    },
    {
      "cell_type": "code",
      "execution_count": 50,
      "metadata": {
        "id": "pY_FZekQgk5_"
      },
      "outputs": [],
      "source": [
        "main_chain = parallel_chain | prompt | llm | parser"
      ]
    },
    {
      "cell_type": "code",
      "execution_count": null,
      "metadata": {
        "colab": {
          "base_uri": "https://localhost:8080/",
          "height": 90
        },
        "id": "Lw3_QBZggnr4",
        "outputId": "3436a0c7-a5ae-41d1-fbb5-bb4f30a3bd1e"
      },
      "outputs": [
        {
          "name": "stderr",
          "output_type": "stream",
          "text": [
            "/usr/local/lib/python3.11/dist-packages/huggingface_hub/utils/_deprecation.py:131: FutureWarning: 'post' (from 'huggingface_hub.inference._client') is deprecated and will be removed from version '0.31.0'. Making direct POST requests to the inference server is not supported anymore. Please use task methods instead (e.g. `InferenceClient.chat_completion`). If your use case is not supported, please open an issue in https://github.com/huggingface/huggingface_hub.\n",
            "  warnings.warn(warning_message, FutureWarning)\n"
          ]
        },
        {
          "data": {
            "application/vnd.google.colaboratory.intrinsic+json": {
              "type": "string"
            },
            "text/plain": [
              "'add prosciutto at $6.00'"
            ]
          },
          "execution_count": 53,
          "metadata": {},
          "output_type": "execute_result"
        }
      ],
      "source": [
        "main_chain.invoke('What add-on options are available for BURRATA at Smith & Wollensky and what are their prices?')"
      ]
    }
  ],
  "metadata": {
    "colab": {
      "provenance": []
    },
    "kernelspec": {
      "display_name": "Python 3",
      "name": "python3"
    },
    "language_info": {
      "name": "python"
    },
    "widgets": {
      "application/vnd.jupyter.widget-state+json": {
        "092430d9436f404e8b84c8bb1d184545": {
          "model_module": "@jupyter-widgets/base",
          "model_module_version": "1.2.0",
          "model_name": "LayoutModel",
          "state": {
            "_model_module": "@jupyter-widgets/base",
            "_model_module_version": "1.2.0",
            "_model_name": "LayoutModel",
            "_view_count": null,
            "_view_module": "@jupyter-widgets/base",
            "_view_module_version": "1.2.0",
            "_view_name": "LayoutView",
            "align_content": null,
            "align_items": null,
            "align_self": null,
            "border": null,
            "bottom": null,
            "display": null,
            "flex": null,
            "flex_flow": null,
            "grid_area": null,
            "grid_auto_columns": null,
            "grid_auto_flow": null,
            "grid_auto_rows": null,
            "grid_column": null,
            "grid_gap": null,
            "grid_row": null,
            "grid_template_areas": null,
            "grid_template_columns": null,
            "grid_template_rows": null,
            "height": null,
            "justify_content": null,
            "justify_items": null,
            "left": null,
            "margin": null,
            "max_height": null,
            "max_width": null,
            "min_height": null,
            "min_width": null,
            "object_fit": null,
            "object_position": null,
            "order": null,
            "overflow": null,
            "overflow_x": null,
            "overflow_y": null,
            "padding": null,
            "right": null,
            "top": null,
            "visibility": null,
            "width": null
          }
        },
        "0a038ddcfc0a4685aaa0d1f15b5314fd": {
          "model_module": "@jupyter-widgets/controls",
          "model_module_version": "1.5.0",
          "model_name": "HTMLModel",
          "state": {
            "_dom_classes": [],
            "_model_module": "@jupyter-widgets/controls",
            "_model_module_version": "1.5.0",
            "_model_name": "HTMLModel",
            "_view_count": null,
            "_view_module": "@jupyter-widgets/controls",
            "_view_module_version": "1.5.0",
            "_view_name": "HTMLView",
            "description": "",
            "description_tooltip": null,
            "layout": "IPY_MODEL_81b300b2235f47dda9da1366bece287c",
            "placeholder": "​",
            "style": "IPY_MODEL_a727b9b1af7d43ee9eaf1d4c91605add",
            "value": "spiece.model: 100%"
          }
        },
        "0aadc252d52a41f484fe39c4042bdf63": {
          "model_module": "@jupyter-widgets/controls",
          "model_module_version": "1.5.0",
          "model_name": "FloatProgressModel",
          "state": {
            "_dom_classes": [],
            "_model_module": "@jupyter-widgets/controls",
            "_model_module_version": "1.5.0",
            "_model_name": "FloatProgressModel",
            "_view_count": null,
            "_view_module": "@jupyter-widgets/controls",
            "_view_module_version": "1.5.0",
            "_view_name": "ProgressView",
            "bar_style": "success",
            "description": "",
            "description_tooltip": null,
            "layout": "IPY_MODEL_1eeb57a2a05b4332a17448edf5a2681e",
            "max": 147,
            "min": 0,
            "orientation": "horizontal",
            "style": "IPY_MODEL_765bd7bc360e4cfd8d4420f9ec05c701",
            "value": 147
          }
        },
        "0c0020da738b40c0a9d807c122e73ebd": {
          "model_module": "@jupyter-widgets/base",
          "model_module_version": "1.2.0",
          "model_name": "LayoutModel",
          "state": {
            "_model_module": "@jupyter-widgets/base",
            "_model_module_version": "1.2.0",
            "_model_name": "LayoutModel",
            "_view_count": null,
            "_view_module": "@jupyter-widgets/base",
            "_view_module_version": "1.2.0",
            "_view_name": "LayoutView",
            "align_content": null,
            "align_items": null,
            "align_self": null,
            "border": null,
            "bottom": null,
            "display": null,
            "flex": null,
            "flex_flow": null,
            "grid_area": null,
            "grid_auto_columns": null,
            "grid_auto_flow": null,
            "grid_auto_rows": null,
            "grid_column": null,
            "grid_gap": null,
            "grid_row": null,
            "grid_template_areas": null,
            "grid_template_columns": null,
            "grid_template_rows": null,
            "height": null,
            "justify_content": null,
            "justify_items": null,
            "left": null,
            "margin": null,
            "max_height": null,
            "max_width": null,
            "min_height": null,
            "min_width": null,
            "object_fit": null,
            "object_position": null,
            "order": null,
            "overflow": null,
            "overflow_x": null,
            "overflow_y": null,
            "padding": null,
            "right": null,
            "top": null,
            "visibility": null,
            "width": null
          }
        },
        "0f7d754677d14733bd8f29e3a2c008bf": {
          "model_module": "@jupyter-widgets/controls",
          "model_module_version": "1.5.0",
          "model_name": "HBoxModel",
          "state": {
            "_dom_classes": [],
            "_model_module": "@jupyter-widgets/controls",
            "_model_module_version": "1.5.0",
            "_model_name": "HBoxModel",
            "_view_count": null,
            "_view_module": "@jupyter-widgets/controls",
            "_view_module_version": "1.5.0",
            "_view_name": "HBoxView",
            "box_style": "",
            "children": [
              "IPY_MODEL_1bd471311f824d7983359661b4ab9abe",
              "IPY_MODEL_0aadc252d52a41f484fe39c4042bdf63",
              "IPY_MODEL_a469531cc6f3479282eaa0a1681e4642"
            ],
            "layout": "IPY_MODEL_5ffa99b1902a46dd80471dcc74bdc76f"
          }
        },
        "102fc298864e480bbd3755b3904b1508": {
          "model_module": "@jupyter-widgets/base",
          "model_module_version": "1.2.0",
          "model_name": "LayoutModel",
          "state": {
            "_model_module": "@jupyter-widgets/base",
            "_model_module_version": "1.2.0",
            "_model_name": "LayoutModel",
            "_view_count": null,
            "_view_module": "@jupyter-widgets/base",
            "_view_module_version": "1.2.0",
            "_view_name": "LayoutView",
            "align_content": null,
            "align_items": null,
            "align_self": null,
            "border": null,
            "bottom": null,
            "display": null,
            "flex": null,
            "flex_flow": null,
            "grid_area": null,
            "grid_auto_columns": null,
            "grid_auto_flow": null,
            "grid_auto_rows": null,
            "grid_column": null,
            "grid_gap": null,
            "grid_row": null,
            "grid_template_areas": null,
            "grid_template_columns": null,
            "grid_template_rows": null,
            "height": null,
            "justify_content": null,
            "justify_items": null,
            "left": null,
            "margin": null,
            "max_height": null,
            "max_width": null,
            "min_height": null,
            "min_width": null,
            "object_fit": null,
            "object_position": null,
            "order": null,
            "overflow": null,
            "overflow_x": null,
            "overflow_y": null,
            "padding": null,
            "right": null,
            "top": null,
            "visibility": null,
            "width": null
          }
        },
        "152c18f365f146d88897c973006a8304": {
          "model_module": "@jupyter-widgets/controls",
          "model_module_version": "1.5.0",
          "model_name": "DescriptionStyleModel",
          "state": {
            "_model_module": "@jupyter-widgets/controls",
            "_model_module_version": "1.5.0",
            "_model_name": "DescriptionStyleModel",
            "_view_count": null,
            "_view_module": "@jupyter-widgets/base",
            "_view_module_version": "1.2.0",
            "_view_name": "StyleView",
            "description_width": ""
          }
        },
        "18931703d6344423ad6ce8e01cd548cb": {
          "model_module": "@jupyter-widgets/base",
          "model_module_version": "1.2.0",
          "model_name": "LayoutModel",
          "state": {
            "_model_module": "@jupyter-widgets/base",
            "_model_module_version": "1.2.0",
            "_model_name": "LayoutModel",
            "_view_count": null,
            "_view_module": "@jupyter-widgets/base",
            "_view_module_version": "1.2.0",
            "_view_name": "LayoutView",
            "align_content": null,
            "align_items": null,
            "align_self": null,
            "border": null,
            "bottom": null,
            "display": null,
            "flex": null,
            "flex_flow": null,
            "grid_area": null,
            "grid_auto_columns": null,
            "grid_auto_flow": null,
            "grid_auto_rows": null,
            "grid_column": null,
            "grid_gap": null,
            "grid_row": null,
            "grid_template_areas": null,
            "grid_template_columns": null,
            "grid_template_rows": null,
            "height": null,
            "justify_content": null,
            "justify_items": null,
            "left": null,
            "margin": null,
            "max_height": null,
            "max_width": null,
            "min_height": null,
            "min_width": null,
            "object_fit": null,
            "object_position": null,
            "order": null,
            "overflow": null,
            "overflow_x": null,
            "overflow_y": null,
            "padding": null,
            "right": null,
            "top": null,
            "visibility": null,
            "width": null
          }
        },
        "1ab27a3967c641889b72840139c09d1a": {
          "model_module": "@jupyter-widgets/base",
          "model_module_version": "1.2.0",
          "model_name": "LayoutModel",
          "state": {
            "_model_module": "@jupyter-widgets/base",
            "_model_module_version": "1.2.0",
            "_model_name": "LayoutModel",
            "_view_count": null,
            "_view_module": "@jupyter-widgets/base",
            "_view_module_version": "1.2.0",
            "_view_name": "LayoutView",
            "align_content": null,
            "align_items": null,
            "align_self": null,
            "border": null,
            "bottom": null,
            "display": null,
            "flex": null,
            "flex_flow": null,
            "grid_area": null,
            "grid_auto_columns": null,
            "grid_auto_flow": null,
            "grid_auto_rows": null,
            "grid_column": null,
            "grid_gap": null,
            "grid_row": null,
            "grid_template_areas": null,
            "grid_template_columns": null,
            "grid_template_rows": null,
            "height": null,
            "justify_content": null,
            "justify_items": null,
            "left": null,
            "margin": null,
            "max_height": null,
            "max_width": null,
            "min_height": null,
            "min_width": null,
            "object_fit": null,
            "object_position": null,
            "order": null,
            "overflow": null,
            "overflow_x": null,
            "overflow_y": null,
            "padding": null,
            "right": null,
            "top": null,
            "visibility": null,
            "width": null
          }
        },
        "1bd471311f824d7983359661b4ab9abe": {
          "model_module": "@jupyter-widgets/controls",
          "model_module_version": "1.5.0",
          "model_name": "HTMLModel",
          "state": {
            "_dom_classes": [],
            "_model_module": "@jupyter-widgets/controls",
            "_model_module_version": "1.5.0",
            "_model_name": "HTMLModel",
            "_view_count": null,
            "_view_module": "@jupyter-widgets/controls",
            "_view_module_version": "1.5.0",
            "_view_name": "HTMLView",
            "description": "",
            "description_tooltip": null,
            "layout": "IPY_MODEL_6e7e8906873145daba39dd91735b7c8e",
            "placeholder": "​",
            "style": "IPY_MODEL_7bdeb64140c34a6abe6db3283c4694fa",
            "value": "generation_config.json: 100%"
          }
        },
        "1cbed3498b184b6994ec34948575299e": {
          "model_module": "@jupyter-widgets/controls",
          "model_module_version": "1.5.0",
          "model_name": "FloatProgressModel",
          "state": {
            "_dom_classes": [],
            "_model_module": "@jupyter-widgets/controls",
            "_model_module_version": "1.5.0",
            "_model_name": "FloatProgressModel",
            "_view_count": null,
            "_view_module": "@jupyter-widgets/controls",
            "_view_module_version": "1.5.0",
            "_view_name": "ProgressView",
            "bar_style": "success",
            "description": "",
            "description_tooltip": null,
            "layout": "IPY_MODEL_355f9dfcb1d0406a9ac149bbc315f057",
            "max": 1401,
            "min": 0,
            "orientation": "horizontal",
            "style": "IPY_MODEL_bd1245752ba543598df187a3f9525bd3",
            "value": 1401
          }
        },
        "1d165af9e5254327a79fb49391703459": {
          "model_module": "@jupyter-widgets/controls",
          "model_module_version": "1.5.0",
          "model_name": "FloatProgressModel",
          "state": {
            "_dom_classes": [],
            "_model_module": "@jupyter-widgets/controls",
            "_model_module_version": "1.5.0",
            "_model_name": "FloatProgressModel",
            "_view_count": null,
            "_view_module": "@jupyter-widgets/controls",
            "_view_module_version": "1.5.0",
            "_view_name": "ProgressView",
            "bar_style": "success",
            "description": "",
            "description_tooltip": null,
            "layout": "IPY_MODEL_0c0020da738b40c0a9d807c122e73ebd",
            "max": 791656,
            "min": 0,
            "orientation": "horizontal",
            "style": "IPY_MODEL_9d97ce170e7a469598b747084affe23b",
            "value": 791656
          }
        },
        "1eeb57a2a05b4332a17448edf5a2681e": {
          "model_module": "@jupyter-widgets/base",
          "model_module_version": "1.2.0",
          "model_name": "LayoutModel",
          "state": {
            "_model_module": "@jupyter-widgets/base",
            "_model_module_version": "1.2.0",
            "_model_name": "LayoutModel",
            "_view_count": null,
            "_view_module": "@jupyter-widgets/base",
            "_view_module_version": "1.2.0",
            "_view_name": "LayoutView",
            "align_content": null,
            "align_items": null,
            "align_self": null,
            "border": null,
            "bottom": null,
            "display": null,
            "flex": null,
            "flex_flow": null,
            "grid_area": null,
            "grid_auto_columns": null,
            "grid_auto_flow": null,
            "grid_auto_rows": null,
            "grid_column": null,
            "grid_gap": null,
            "grid_row": null,
            "grid_template_areas": null,
            "grid_template_columns": null,
            "grid_template_rows": null,
            "height": null,
            "justify_content": null,
            "justify_items": null,
            "left": null,
            "margin": null,
            "max_height": null,
            "max_width": null,
            "min_height": null,
            "min_width": null,
            "object_fit": null,
            "object_position": null,
            "order": null,
            "overflow": null,
            "overflow_x": null,
            "overflow_y": null,
            "padding": null,
            "right": null,
            "top": null,
            "visibility": null,
            "width": null
          }
        },
        "24ba7301a81348c1afdd911c98d01086": {
          "model_module": "@jupyter-widgets/controls",
          "model_module_version": "1.5.0",
          "model_name": "HTMLModel",
          "state": {
            "_dom_classes": [],
            "_model_module": "@jupyter-widgets/controls",
            "_model_module_version": "1.5.0",
            "_model_name": "HTMLModel",
            "_view_count": null,
            "_view_module": "@jupyter-widgets/controls",
            "_view_module_version": "1.5.0",
            "_view_name": "HTMLView",
            "description": "",
            "description_tooltip": null,
            "layout": "IPY_MODEL_4fae6ac157ea4e6094ec4699de030643",
            "placeholder": "​",
            "style": "IPY_MODEL_ce9624e790074695be24127e2a1e327f",
            "value": " 2.20k/2.20k [00:00&lt;00:00, 160kB/s]"
          }
        },
        "2585bd98d87d47f7b6677749efb42489": {
          "model_module": "@jupyter-widgets/controls",
          "model_module_version": "1.5.0",
          "model_name": "ProgressStyleModel",
          "state": {
            "_model_module": "@jupyter-widgets/controls",
            "_model_module_version": "1.5.0",
            "_model_name": "ProgressStyleModel",
            "_view_count": null,
            "_view_module": "@jupyter-widgets/base",
            "_view_module_version": "1.2.0",
            "_view_name": "StyleView",
            "bar_color": null,
            "description_width": ""
          }
        },
        "2859d8e130564e34b3dd1158c0e40df3": {
          "model_module": "@jupyter-widgets/base",
          "model_module_version": "1.2.0",
          "model_name": "LayoutModel",
          "state": {
            "_model_module": "@jupyter-widgets/base",
            "_model_module_version": "1.2.0",
            "_model_name": "LayoutModel",
            "_view_count": null,
            "_view_module": "@jupyter-widgets/base",
            "_view_module_version": "1.2.0",
            "_view_name": "LayoutView",
            "align_content": null,
            "align_items": null,
            "align_self": null,
            "border": null,
            "bottom": null,
            "display": null,
            "flex": null,
            "flex_flow": null,
            "grid_area": null,
            "grid_auto_columns": null,
            "grid_auto_flow": null,
            "grid_auto_rows": null,
            "grid_column": null,
            "grid_gap": null,
            "grid_row": null,
            "grid_template_areas": null,
            "grid_template_columns": null,
            "grid_template_rows": null,
            "height": null,
            "justify_content": null,
            "justify_items": null,
            "left": null,
            "margin": null,
            "max_height": null,
            "max_width": null,
            "min_height": null,
            "min_width": null,
            "object_fit": null,
            "object_position": null,
            "order": null,
            "overflow": null,
            "overflow_x": null,
            "overflow_y": null,
            "padding": null,
            "right": null,
            "top": null,
            "visibility": null,
            "width": null
          }
        },
        "2900a45f2b944e5d99ca99e76aaac0f7": {
          "model_module": "@jupyter-widgets/base",
          "model_module_version": "1.2.0",
          "model_name": "LayoutModel",
          "state": {
            "_model_module": "@jupyter-widgets/base",
            "_model_module_version": "1.2.0",
            "_model_name": "LayoutModel",
            "_view_count": null,
            "_view_module": "@jupyter-widgets/base",
            "_view_module_version": "1.2.0",
            "_view_name": "LayoutView",
            "align_content": null,
            "align_items": null,
            "align_self": null,
            "border": null,
            "bottom": null,
            "display": null,
            "flex": null,
            "flex_flow": null,
            "grid_area": null,
            "grid_auto_columns": null,
            "grid_auto_flow": null,
            "grid_auto_rows": null,
            "grid_column": null,
            "grid_gap": null,
            "grid_row": null,
            "grid_template_areas": null,
            "grid_template_columns": null,
            "grid_template_rows": null,
            "height": null,
            "justify_content": null,
            "justify_items": null,
            "left": null,
            "margin": null,
            "max_height": null,
            "max_width": null,
            "min_height": null,
            "min_width": null,
            "object_fit": null,
            "object_position": null,
            "order": null,
            "overflow": null,
            "overflow_x": null,
            "overflow_y": null,
            "padding": null,
            "right": null,
            "top": null,
            "visibility": null,
            "width": null
          }
        },
        "2939437aa32a4dd7999cef3a0ab9c197": {
          "model_module": "@jupyter-widgets/controls",
          "model_module_version": "1.5.0",
          "model_name": "FloatProgressModel",
          "state": {
            "_dom_classes": [],
            "_model_module": "@jupyter-widgets/controls",
            "_model_module_version": "1.5.0",
            "_model_name": "FloatProgressModel",
            "_view_count": null,
            "_view_module": "@jupyter-widgets/controls",
            "_view_module_version": "1.5.0",
            "_view_name": "ProgressView",
            "bar_style": "success",
            "description": "",
            "description_tooltip": null,
            "layout": "IPY_MODEL_2859d8e130564e34b3dd1158c0e40df3",
            "max": 2201,
            "min": 0,
            "orientation": "horizontal",
            "style": "IPY_MODEL_2585bd98d87d47f7b6677749efb42489",
            "value": 2201
          }
        },
        "29754e15ce4a4f78bb3a9a576ad62d7f": {
          "model_module": "@jupyter-widgets/controls",
          "model_module_version": "1.5.0",
          "model_name": "ButtonStyleModel",
          "state": {
            "_model_module": "@jupyter-widgets/controls",
            "_model_module_version": "1.5.0",
            "_model_name": "ButtonStyleModel",
            "_view_count": null,
            "_view_module": "@jupyter-widgets/base",
            "_view_module_version": "1.2.0",
            "_view_name": "StyleView",
            "button_color": null,
            "font_weight": ""
          }
        },
        "2b72ff034bc2472faf26ee93e4836cb7": {
          "model_module": "@jupyter-widgets/controls",
          "model_module_version": "1.5.0",
          "model_name": "HTMLModel",
          "state": {
            "_dom_classes": [],
            "_model_module": "@jupyter-widgets/controls",
            "_model_module_version": "1.5.0",
            "_model_name": "HTMLModel",
            "_view_count": null,
            "_view_module": "@jupyter-widgets/controls",
            "_view_module_version": "1.5.0",
            "_view_name": "HTMLView",
            "description": "",
            "description_tooltip": null,
            "layout": "IPY_MODEL_84e8532930ee47379f769e6296c08121",
            "placeholder": "​",
            "style": "IPY_MODEL_ddd9dee5be674868a9255d9ed9a2bd4a",
            "value": "config.json: 100%"
          }
        },
        "2b8f52ba88f342c6910d3bbf4537f85c": {
          "model_module": "@jupyter-widgets/controls",
          "model_module_version": "1.5.0",
          "model_name": "DescriptionStyleModel",
          "state": {
            "_model_module": "@jupyter-widgets/controls",
            "_model_module_version": "1.5.0",
            "_model_name": "DescriptionStyleModel",
            "_view_count": null,
            "_view_module": "@jupyter-widgets/base",
            "_view_module_version": "1.2.0",
            "_view_name": "StyleView",
            "description_width": ""
          }
        },
        "2d0d61c839564354814d536cc3032d92": {
          "model_module": "@jupyter-widgets/controls",
          "model_module_version": "1.5.0",
          "model_name": "VBoxModel",
          "state": {
            "_dom_classes": [],
            "_model_module": "@jupyter-widgets/controls",
            "_model_module_version": "1.5.0",
            "_model_name": "VBoxModel",
            "_view_count": null,
            "_view_module": "@jupyter-widgets/controls",
            "_view_module_version": "1.5.0",
            "_view_name": "VBoxView",
            "box_style": "",
            "children": [],
            "layout": "IPY_MODEL_f742ada61cb6416e88a7766c4edacddb"
          }
        },
        "355f9dfcb1d0406a9ac149bbc315f057": {
          "model_module": "@jupyter-widgets/base",
          "model_module_version": "1.2.0",
          "model_name": "LayoutModel",
          "state": {
            "_model_module": "@jupyter-widgets/base",
            "_model_module_version": "1.2.0",
            "_model_name": "LayoutModel",
            "_view_count": null,
            "_view_module": "@jupyter-widgets/base",
            "_view_module_version": "1.2.0",
            "_view_name": "LayoutView",
            "align_content": null,
            "align_items": null,
            "align_self": null,
            "border": null,
            "bottom": null,
            "display": null,
            "flex": null,
            "flex_flow": null,
            "grid_area": null,
            "grid_auto_columns": null,
            "grid_auto_flow": null,
            "grid_auto_rows": null,
            "grid_column": null,
            "grid_gap": null,
            "grid_row": null,
            "grid_template_areas": null,
            "grid_template_columns": null,
            "grid_template_rows": null,
            "height": null,
            "justify_content": null,
            "justify_items": null,
            "left": null,
            "margin": null,
            "max_height": null,
            "max_width": null,
            "min_height": null,
            "min_width": null,
            "object_fit": null,
            "object_position": null,
            "order": null,
            "overflow": null,
            "overflow_x": null,
            "overflow_y": null,
            "padding": null,
            "right": null,
            "top": null,
            "visibility": null,
            "width": null
          }
        },
        "35831318539d4570b6ae51e7aee7749f": {
          "model_module": "@jupyter-widgets/base",
          "model_module_version": "1.2.0",
          "model_name": "LayoutModel",
          "state": {
            "_model_module": "@jupyter-widgets/base",
            "_model_module_version": "1.2.0",
            "_model_name": "LayoutModel",
            "_view_count": null,
            "_view_module": "@jupyter-widgets/base",
            "_view_module_version": "1.2.0",
            "_view_name": "LayoutView",
            "align_content": null,
            "align_items": null,
            "align_self": null,
            "border": null,
            "bottom": null,
            "display": null,
            "flex": null,
            "flex_flow": null,
            "grid_area": null,
            "grid_auto_columns": null,
            "grid_auto_flow": null,
            "grid_auto_rows": null,
            "grid_column": null,
            "grid_gap": null,
            "grid_row": null,
            "grid_template_areas": null,
            "grid_template_columns": null,
            "grid_template_rows": null,
            "height": null,
            "justify_content": null,
            "justify_items": null,
            "left": null,
            "margin": null,
            "max_height": null,
            "max_width": null,
            "min_height": null,
            "min_width": null,
            "object_fit": null,
            "object_position": null,
            "order": null,
            "overflow": null,
            "overflow_x": null,
            "overflow_y": null,
            "padding": null,
            "right": null,
            "top": null,
            "visibility": null,
            "width": null
          }
        },
        "36594a98e51b48f087879609ccc21847": {
          "model_module": "@jupyter-widgets/controls",
          "model_module_version": "1.5.0",
          "model_name": "DescriptionStyleModel",
          "state": {
            "_model_module": "@jupyter-widgets/controls",
            "_model_module_version": "1.5.0",
            "_model_name": "DescriptionStyleModel",
            "_view_count": null,
            "_view_module": "@jupyter-widgets/base",
            "_view_module_version": "1.2.0",
            "_view_name": "StyleView",
            "description_width": ""
          }
        },
        "36f266e140f74c508556917f7e2a009e": {
          "model_module": "@jupyter-widgets/controls",
          "model_module_version": "1.5.0",
          "model_name": "HBoxModel",
          "state": {
            "_dom_classes": [],
            "_model_module": "@jupyter-widgets/controls",
            "_model_module_version": "1.5.0",
            "_model_name": "HBoxModel",
            "_view_count": null,
            "_view_module": "@jupyter-widgets/controls",
            "_view_module_version": "1.5.0",
            "_view_name": "HBoxView",
            "box_style": "",
            "children": [
              "IPY_MODEL_c8d5a27353e5474da6b80712507437ce",
              "IPY_MODEL_da011218f2f74ad68b68a6d2ed606b17",
              "IPY_MODEL_72f6c3a14fd0446b8e684e746a7ec1ec"
            ],
            "layout": "IPY_MODEL_681af09a3e8b453dbf4917d4c356d538"
          }
        },
        "3b607967ea6c4f98aee227cb4a97e61a": {
          "model_module": "@jupyter-widgets/base",
          "model_module_version": "1.2.0",
          "model_name": "LayoutModel",
          "state": {
            "_model_module": "@jupyter-widgets/base",
            "_model_module_version": "1.2.0",
            "_model_name": "LayoutModel",
            "_view_count": null,
            "_view_module": "@jupyter-widgets/base",
            "_view_module_version": "1.2.0",
            "_view_name": "LayoutView",
            "align_content": null,
            "align_items": null,
            "align_self": null,
            "border": null,
            "bottom": null,
            "display": null,
            "flex": null,
            "flex_flow": null,
            "grid_area": null,
            "grid_auto_columns": null,
            "grid_auto_flow": null,
            "grid_auto_rows": null,
            "grid_column": null,
            "grid_gap": null,
            "grid_row": null,
            "grid_template_areas": null,
            "grid_template_columns": null,
            "grid_template_rows": null,
            "height": null,
            "justify_content": null,
            "justify_items": null,
            "left": null,
            "margin": null,
            "max_height": null,
            "max_width": null,
            "min_height": null,
            "min_width": null,
            "object_fit": null,
            "object_position": null,
            "order": null,
            "overflow": null,
            "overflow_x": null,
            "overflow_y": null,
            "padding": null,
            "right": null,
            "top": null,
            "visibility": null,
            "width": null
          }
        },
        "3cd5490e8d3646938a4d15ca2d1a3b2d": {
          "model_module": "@jupyter-widgets/controls",
          "model_module_version": "1.5.0",
          "model_name": "DescriptionStyleModel",
          "state": {
            "_model_module": "@jupyter-widgets/controls",
            "_model_module_version": "1.5.0",
            "_model_name": "DescriptionStyleModel",
            "_view_count": null,
            "_view_module": "@jupyter-widgets/base",
            "_view_module_version": "1.2.0",
            "_view_name": "StyleView",
            "description_width": ""
          }
        },
        "407dbb32a4bd4d4baa6f3ebd9382a353": {
          "model_module": "@jupyter-widgets/controls",
          "model_module_version": "1.5.0",
          "model_name": "DescriptionStyleModel",
          "state": {
            "_model_module": "@jupyter-widgets/controls",
            "_model_module_version": "1.5.0",
            "_model_name": "DescriptionStyleModel",
            "_view_count": null,
            "_view_module": "@jupyter-widgets/base",
            "_view_module_version": "1.2.0",
            "_view_name": "StyleView",
            "description_width": ""
          }
        },
        "43f608230c3f4ca0be0a4f212aedaf7a": {
          "model_module": "@jupyter-widgets/controls",
          "model_module_version": "1.5.0",
          "model_name": "DescriptionStyleModel",
          "state": {
            "_model_module": "@jupyter-widgets/controls",
            "_model_module_version": "1.5.0",
            "_model_name": "DescriptionStyleModel",
            "_view_count": null,
            "_view_module": "@jupyter-widgets/base",
            "_view_module_version": "1.2.0",
            "_view_name": "StyleView",
            "description_width": ""
          }
        },
        "4487e57607614c2d872ab7930f221743": {
          "model_module": "@jupyter-widgets/controls",
          "model_module_version": "1.5.0",
          "model_name": "HTMLModel",
          "state": {
            "_dom_classes": [],
            "_model_module": "@jupyter-widgets/controls",
            "_model_module_version": "1.5.0",
            "_model_name": "HTMLModel",
            "_view_count": null,
            "_view_module": "@jupyter-widgets/controls",
            "_view_module_version": "1.5.0",
            "_view_name": "HTMLView",
            "description": "",
            "description_tooltip": null,
            "layout": "IPY_MODEL_18931703d6344423ad6ce8e01cd548cb",
            "placeholder": "​",
            "style": "IPY_MODEL_62679b8994834179aa38cfc01fdb2638",
            "value": " 1.40k/1.40k [00:00&lt;00:00, 97.3kB/s]"
          }
        },
        "4fae6ac157ea4e6094ec4699de030643": {
          "model_module": "@jupyter-widgets/base",
          "model_module_version": "1.2.0",
          "model_name": "LayoutModel",
          "state": {
            "_model_module": "@jupyter-widgets/base",
            "_model_module_version": "1.2.0",
            "_model_name": "LayoutModel",
            "_view_count": null,
            "_view_module": "@jupyter-widgets/base",
            "_view_module_version": "1.2.0",
            "_view_name": "LayoutView",
            "align_content": null,
            "align_items": null,
            "align_self": null,
            "border": null,
            "bottom": null,
            "display": null,
            "flex": null,
            "flex_flow": null,
            "grid_area": null,
            "grid_auto_columns": null,
            "grid_auto_flow": null,
            "grid_auto_rows": null,
            "grid_column": null,
            "grid_gap": null,
            "grid_row": null,
            "grid_template_areas": null,
            "grid_template_columns": null,
            "grid_template_rows": null,
            "height": null,
            "justify_content": null,
            "justify_items": null,
            "left": null,
            "margin": null,
            "max_height": null,
            "max_width": null,
            "min_height": null,
            "min_width": null,
            "object_fit": null,
            "object_position": null,
            "order": null,
            "overflow": null,
            "overflow_x": null,
            "overflow_y": null,
            "padding": null,
            "right": null,
            "top": null,
            "visibility": null,
            "width": null
          }
        },
        "534f11c2345143869eaba8f9fcd853ec": {
          "model_module": "@jupyter-widgets/controls",
          "model_module_version": "1.5.0",
          "model_name": "ButtonModel",
          "state": {
            "_dom_classes": [],
            "_model_module": "@jupyter-widgets/controls",
            "_model_module_version": "1.5.0",
            "_model_name": "ButtonModel",
            "_view_count": null,
            "_view_module": "@jupyter-widgets/controls",
            "_view_module_version": "1.5.0",
            "_view_name": "ButtonView",
            "button_style": "",
            "description": "Login",
            "disabled": false,
            "icon": "",
            "layout": "IPY_MODEL_968fb8db37c24016836d2989a1e0105f",
            "style": "IPY_MODEL_29754e15ce4a4f78bb3a9a576ad62d7f",
            "tooltip": ""
          }
        },
        "54ab062c63344bb5b90ff9bd836eac6c": {
          "model_module": "@jupyter-widgets/controls",
          "model_module_version": "1.5.0",
          "model_name": "HTMLModel",
          "state": {
            "_dom_classes": [],
            "_model_module": "@jupyter-widgets/controls",
            "_model_module_version": "1.5.0",
            "_model_name": "HTMLModel",
            "_view_count": null,
            "_view_module": "@jupyter-widgets/controls",
            "_view_module_version": "1.5.0",
            "_view_name": "HTMLView",
            "description": "",
            "description_tooltip": null,
            "layout": "IPY_MODEL_b1105c8fa17e4d7eba1b1d2fc3226507",
            "placeholder": "​",
            "style": "IPY_MODEL_3cd5490e8d3646938a4d15ca2d1a3b2d",
            "value": " 308M/308M [00:04&lt;00:00, 32.2MB/s]"
          }
        },
        "5ffa99b1902a46dd80471dcc74bdc76f": {
          "model_module": "@jupyter-widgets/base",
          "model_module_version": "1.2.0",
          "model_name": "LayoutModel",
          "state": {
            "_model_module": "@jupyter-widgets/base",
            "_model_module_version": "1.2.0",
            "_model_name": "LayoutModel",
            "_view_count": null,
            "_view_module": "@jupyter-widgets/base",
            "_view_module_version": "1.2.0",
            "_view_name": "LayoutView",
            "align_content": null,
            "align_items": null,
            "align_self": null,
            "border": null,
            "bottom": null,
            "display": null,
            "flex": null,
            "flex_flow": null,
            "grid_area": null,
            "grid_auto_columns": null,
            "grid_auto_flow": null,
            "grid_auto_rows": null,
            "grid_column": null,
            "grid_gap": null,
            "grid_row": null,
            "grid_template_areas": null,
            "grid_template_columns": null,
            "grid_template_rows": null,
            "height": null,
            "justify_content": null,
            "justify_items": null,
            "left": null,
            "margin": null,
            "max_height": null,
            "max_width": null,
            "min_height": null,
            "min_width": null,
            "object_fit": null,
            "object_position": null,
            "order": null,
            "overflow": null,
            "overflow_x": null,
            "overflow_y": null,
            "padding": null,
            "right": null,
            "top": null,
            "visibility": null,
            "width": null
          }
        },
        "6052624cb3e34104a0562183ee1fbb9c": {
          "model_module": "@jupyter-widgets/controls",
          "model_module_version": "1.5.0",
          "model_name": "HTMLModel",
          "state": {
            "_dom_classes": [],
            "_model_module": "@jupyter-widgets/controls",
            "_model_module_version": "1.5.0",
            "_model_name": "HTMLModel",
            "_view_count": null,
            "_view_module": "@jupyter-widgets/controls",
            "_view_module_version": "1.5.0",
            "_view_name": "HTMLView",
            "description": "",
            "description_tooltip": null,
            "layout": "IPY_MODEL_1ab27a3967c641889b72840139c09d1a",
            "placeholder": "​",
            "style": "IPY_MODEL_2b8f52ba88f342c6910d3bbf4537f85c",
            "value": "\n<b>Pro Tip:</b> If you don't already have one, you can create a dedicated\n'notebooks' token with 'write' access, that you can then easily reuse for all\nnotebooks. </center>"
          }
        },
        "62679b8994834179aa38cfc01fdb2638": {
          "model_module": "@jupyter-widgets/controls",
          "model_module_version": "1.5.0",
          "model_name": "DescriptionStyleModel",
          "state": {
            "_model_module": "@jupyter-widgets/controls",
            "_model_module_version": "1.5.0",
            "_model_name": "DescriptionStyleModel",
            "_view_count": null,
            "_view_module": "@jupyter-widgets/base",
            "_view_module_version": "1.2.0",
            "_view_name": "StyleView",
            "description_width": ""
          }
        },
        "63c60f1ba9104c4d897ffa455ff90a5e": {
          "model_module": "@jupyter-widgets/controls",
          "model_module_version": "1.5.0",
          "model_name": "DescriptionStyleModel",
          "state": {
            "_model_module": "@jupyter-widgets/controls",
            "_model_module_version": "1.5.0",
            "_model_name": "DescriptionStyleModel",
            "_view_count": null,
            "_view_module": "@jupyter-widgets/base",
            "_view_module_version": "1.2.0",
            "_view_name": "StyleView",
            "description_width": ""
          }
        },
        "681af09a3e8b453dbf4917d4c356d538": {
          "model_module": "@jupyter-widgets/base",
          "model_module_version": "1.2.0",
          "model_name": "LayoutModel",
          "state": {
            "_model_module": "@jupyter-widgets/base",
            "_model_module_version": "1.2.0",
            "_model_name": "LayoutModel",
            "_view_count": null,
            "_view_module": "@jupyter-widgets/base",
            "_view_module_version": "1.2.0",
            "_view_name": "LayoutView",
            "align_content": null,
            "align_items": null,
            "align_self": null,
            "border": null,
            "bottom": null,
            "display": null,
            "flex": null,
            "flex_flow": null,
            "grid_area": null,
            "grid_auto_columns": null,
            "grid_auto_flow": null,
            "grid_auto_rows": null,
            "grid_column": null,
            "grid_gap": null,
            "grid_row": null,
            "grid_template_areas": null,
            "grid_template_columns": null,
            "grid_template_rows": null,
            "height": null,
            "justify_content": null,
            "justify_items": null,
            "left": null,
            "margin": null,
            "max_height": null,
            "max_width": null,
            "min_height": null,
            "min_width": null,
            "object_fit": null,
            "object_position": null,
            "order": null,
            "overflow": null,
            "overflow_x": null,
            "overflow_y": null,
            "padding": null,
            "right": null,
            "top": null,
            "visibility": null,
            "width": null
          }
        },
        "6c4a85c8e14c4e55b8bd92f59670984d": {
          "model_module": "@jupyter-widgets/controls",
          "model_module_version": "1.5.0",
          "model_name": "DescriptionStyleModel",
          "state": {
            "_model_module": "@jupyter-widgets/controls",
            "_model_module_version": "1.5.0",
            "_model_name": "DescriptionStyleModel",
            "_view_count": null,
            "_view_module": "@jupyter-widgets/base",
            "_view_module_version": "1.2.0",
            "_view_name": "StyleView",
            "description_width": ""
          }
        },
        "6e7e8906873145daba39dd91735b7c8e": {
          "model_module": "@jupyter-widgets/base",
          "model_module_version": "1.2.0",
          "model_name": "LayoutModel",
          "state": {
            "_model_module": "@jupyter-widgets/base",
            "_model_module_version": "1.2.0",
            "_model_name": "LayoutModel",
            "_view_count": null,
            "_view_module": "@jupyter-widgets/base",
            "_view_module_version": "1.2.0",
            "_view_name": "LayoutView",
            "align_content": null,
            "align_items": null,
            "align_self": null,
            "border": null,
            "bottom": null,
            "display": null,
            "flex": null,
            "flex_flow": null,
            "grid_area": null,
            "grid_auto_columns": null,
            "grid_auto_flow": null,
            "grid_auto_rows": null,
            "grid_column": null,
            "grid_gap": null,
            "grid_row": null,
            "grid_template_areas": null,
            "grid_template_columns": null,
            "grid_template_rows": null,
            "height": null,
            "justify_content": null,
            "justify_items": null,
            "left": null,
            "margin": null,
            "max_height": null,
            "max_width": null,
            "min_height": null,
            "min_width": null,
            "object_fit": null,
            "object_position": null,
            "order": null,
            "overflow": null,
            "overflow_x": null,
            "overflow_y": null,
            "padding": null,
            "right": null,
            "top": null,
            "visibility": null,
            "width": null
          }
        },
        "72f6c3a14fd0446b8e684e746a7ec1ec": {
          "model_module": "@jupyter-widgets/controls",
          "model_module_version": "1.5.0",
          "model_name": "HTMLModel",
          "state": {
            "_dom_classes": [],
            "_model_module": "@jupyter-widgets/controls",
            "_model_module_version": "1.5.0",
            "_model_name": "HTMLModel",
            "_view_count": null,
            "_view_module": "@jupyter-widgets/controls",
            "_view_module_version": "1.5.0",
            "_view_name": "HTMLView",
            "description": "",
            "description_tooltip": null,
            "layout": "IPY_MODEL_a0a621d0cc2e42f98c981457a95974cf",
            "placeholder": "​",
            "style": "IPY_MODEL_43f608230c3f4ca0be0a4f212aedaf7a",
            "value": " 2.42M/2.42M [00:00&lt;00:00, 12.6MB/s]"
          }
        },
        "765bd7bc360e4cfd8d4420f9ec05c701": {
          "model_module": "@jupyter-widgets/controls",
          "model_module_version": "1.5.0",
          "model_name": "ProgressStyleModel",
          "state": {
            "_model_module": "@jupyter-widgets/controls",
            "_model_module_version": "1.5.0",
            "_model_name": "ProgressStyleModel",
            "_view_count": null,
            "_view_module": "@jupyter-widgets/base",
            "_view_module_version": "1.2.0",
            "_view_name": "StyleView",
            "bar_color": null,
            "description_width": ""
          }
        },
        "7750b894e627419b8312d7a111ebfc10": {
          "model_module": "@jupyter-widgets/controls",
          "model_module_version": "1.5.0",
          "model_name": "HBoxModel",
          "state": {
            "_dom_classes": [],
            "_model_module": "@jupyter-widgets/controls",
            "_model_module_version": "1.5.0",
            "_model_name": "HBoxModel",
            "_view_count": null,
            "_view_module": "@jupyter-widgets/controls",
            "_view_module_version": "1.5.0",
            "_view_name": "HBoxView",
            "box_style": "",
            "children": [
              "IPY_MODEL_0a038ddcfc0a4685aaa0d1f15b5314fd",
              "IPY_MODEL_1d165af9e5254327a79fb49391703459",
              "IPY_MODEL_c7c649999afc47e4b905e73ea8bc2e0b"
            ],
            "layout": "IPY_MODEL_d593cda477e14bbab0f7dada4e8d77a9"
          }
        },
        "7bdeb64140c34a6abe6db3283c4694fa": {
          "model_module": "@jupyter-widgets/controls",
          "model_module_version": "1.5.0",
          "model_name": "DescriptionStyleModel",
          "state": {
            "_model_module": "@jupyter-widgets/controls",
            "_model_module_version": "1.5.0",
            "_model_name": "DescriptionStyleModel",
            "_view_count": null,
            "_view_module": "@jupyter-widgets/base",
            "_view_module_version": "1.2.0",
            "_view_name": "StyleView",
            "description_width": ""
          }
        },
        "7d08fd04bf4e4d599305bec9ef60e174": {
          "model_module": "@jupyter-widgets/controls",
          "model_module_version": "1.5.0",
          "model_name": "HTMLModel",
          "state": {
            "_dom_classes": [],
            "_model_module": "@jupyter-widgets/controls",
            "_model_module_version": "1.5.0",
            "_model_name": "HTMLModel",
            "_view_count": null,
            "_view_module": "@jupyter-widgets/controls",
            "_view_module_version": "1.5.0",
            "_view_name": "HTMLView",
            "description": "",
            "description_tooltip": null,
            "layout": "IPY_MODEL_2900a45f2b944e5d99ca99e76aaac0f7",
            "placeholder": "​",
            "style": "IPY_MODEL_407dbb32a4bd4d4baa6f3ebd9382a353",
            "value": "<center> <img\nsrc=https://huggingface.co/front/assets/huggingface_logo-noborder.svg\nalt='Hugging Face'> <br> Copy a token from <a\nhref=\"https://huggingface.co/settings/tokens\" target=\"_blank\">your Hugging Face\ntokens page</a> and paste it below. <br> Immediately click login after copying\nyour token or it might be stored in plain text in this notebook file. </center>"
          }
        },
        "7f59cb41575c4de9ae0002f6df20c678": {
          "model_module": "@jupyter-widgets/base",
          "model_module_version": "1.2.0",
          "model_name": "LayoutModel",
          "state": {
            "_model_module": "@jupyter-widgets/base",
            "_model_module_version": "1.2.0",
            "_model_name": "LayoutModel",
            "_view_count": null,
            "_view_module": "@jupyter-widgets/base",
            "_view_module_version": "1.2.0",
            "_view_name": "LayoutView",
            "align_content": null,
            "align_items": null,
            "align_self": null,
            "border": null,
            "bottom": null,
            "display": null,
            "flex": null,
            "flex_flow": null,
            "grid_area": null,
            "grid_auto_columns": null,
            "grid_auto_flow": null,
            "grid_auto_rows": null,
            "grid_column": null,
            "grid_gap": null,
            "grid_row": null,
            "grid_template_areas": null,
            "grid_template_columns": null,
            "grid_template_rows": null,
            "height": null,
            "justify_content": null,
            "justify_items": null,
            "left": null,
            "margin": null,
            "max_height": null,
            "max_width": null,
            "min_height": null,
            "min_width": null,
            "object_fit": null,
            "object_position": null,
            "order": null,
            "overflow": null,
            "overflow_x": null,
            "overflow_y": null,
            "padding": null,
            "right": null,
            "top": null,
            "visibility": null,
            "width": null
          }
        },
        "81b300b2235f47dda9da1366bece287c": {
          "model_module": "@jupyter-widgets/base",
          "model_module_version": "1.2.0",
          "model_name": "LayoutModel",
          "state": {
            "_model_module": "@jupyter-widgets/base",
            "_model_module_version": "1.2.0",
            "_model_name": "LayoutModel",
            "_view_count": null,
            "_view_module": "@jupyter-widgets/base",
            "_view_module_version": "1.2.0",
            "_view_name": "LayoutView",
            "align_content": null,
            "align_items": null,
            "align_self": null,
            "border": null,
            "bottom": null,
            "display": null,
            "flex": null,
            "flex_flow": null,
            "grid_area": null,
            "grid_auto_columns": null,
            "grid_auto_flow": null,
            "grid_auto_rows": null,
            "grid_column": null,
            "grid_gap": null,
            "grid_row": null,
            "grid_template_areas": null,
            "grid_template_columns": null,
            "grid_template_rows": null,
            "height": null,
            "justify_content": null,
            "justify_items": null,
            "left": null,
            "margin": null,
            "max_height": null,
            "max_width": null,
            "min_height": null,
            "min_width": null,
            "object_fit": null,
            "object_position": null,
            "order": null,
            "overflow": null,
            "overflow_x": null,
            "overflow_y": null,
            "padding": null,
            "right": null,
            "top": null,
            "visibility": null,
            "width": null
          }
        },
        "84e8532930ee47379f769e6296c08121": {
          "model_module": "@jupyter-widgets/base",
          "model_module_version": "1.2.0",
          "model_name": "LayoutModel",
          "state": {
            "_model_module": "@jupyter-widgets/base",
            "_model_module_version": "1.2.0",
            "_model_name": "LayoutModel",
            "_view_count": null,
            "_view_module": "@jupyter-widgets/base",
            "_view_module_version": "1.2.0",
            "_view_name": "LayoutView",
            "align_content": null,
            "align_items": null,
            "align_self": null,
            "border": null,
            "bottom": null,
            "display": null,
            "flex": null,
            "flex_flow": null,
            "grid_area": null,
            "grid_auto_columns": null,
            "grid_auto_flow": null,
            "grid_auto_rows": null,
            "grid_column": null,
            "grid_gap": null,
            "grid_row": null,
            "grid_template_areas": null,
            "grid_template_columns": null,
            "grid_template_rows": null,
            "height": null,
            "justify_content": null,
            "justify_items": null,
            "left": null,
            "margin": null,
            "max_height": null,
            "max_width": null,
            "min_height": null,
            "min_width": null,
            "object_fit": null,
            "object_position": null,
            "order": null,
            "overflow": null,
            "overflow_x": null,
            "overflow_y": null,
            "padding": null,
            "right": null,
            "top": null,
            "visibility": null,
            "width": null
          }
        },
        "87958cc946f746f2a346c41fa3adf61d": {
          "model_module": "@jupyter-widgets/base",
          "model_module_version": "1.2.0",
          "model_name": "LayoutModel",
          "state": {
            "_model_module": "@jupyter-widgets/base",
            "_model_module_version": "1.2.0",
            "_model_name": "LayoutModel",
            "_view_count": null,
            "_view_module": "@jupyter-widgets/base",
            "_view_module_version": "1.2.0",
            "_view_name": "LayoutView",
            "align_content": null,
            "align_items": null,
            "align_self": null,
            "border": null,
            "bottom": null,
            "display": null,
            "flex": null,
            "flex_flow": null,
            "grid_area": null,
            "grid_auto_columns": null,
            "grid_auto_flow": null,
            "grid_auto_rows": null,
            "grid_column": null,
            "grid_gap": null,
            "grid_row": null,
            "grid_template_areas": null,
            "grid_template_columns": null,
            "grid_template_rows": null,
            "height": null,
            "justify_content": null,
            "justify_items": null,
            "left": null,
            "margin": null,
            "max_height": null,
            "max_width": null,
            "min_height": null,
            "min_width": null,
            "object_fit": null,
            "object_position": null,
            "order": null,
            "overflow": null,
            "overflow_x": null,
            "overflow_y": null,
            "padding": null,
            "right": null,
            "top": null,
            "visibility": null,
            "width": null
          }
        },
        "8c24588ba2d446ffb4b4fa19b75ac4af": {
          "model_module": "@jupyter-widgets/controls",
          "model_module_version": "1.5.0",
          "model_name": "PasswordModel",
          "state": {
            "_dom_classes": [],
            "_model_module": "@jupyter-widgets/controls",
            "_model_module_version": "1.5.0",
            "_model_name": "PasswordModel",
            "_view_count": null,
            "_view_module": "@jupyter-widgets/controls",
            "_view_module_version": "1.5.0",
            "_view_name": "PasswordView",
            "continuous_update": true,
            "description": "Token:",
            "description_tooltip": null,
            "disabled": false,
            "layout": "IPY_MODEL_7f59cb41575c4de9ae0002f6df20c678",
            "placeholder": "​",
            "style": "IPY_MODEL_6c4a85c8e14c4e55b8bd92f59670984d",
            "value": ""
          }
        },
        "8cc6d9d02f8a4991a887618d321802ea": {
          "model_module": "@jupyter-widgets/controls",
          "model_module_version": "1.5.0",
          "model_name": "FloatProgressModel",
          "state": {
            "_dom_classes": [],
            "_model_module": "@jupyter-widgets/controls",
            "_model_module_version": "1.5.0",
            "_model_name": "FloatProgressModel",
            "_view_count": null,
            "_view_module": "@jupyter-widgets/controls",
            "_view_module_version": "1.5.0",
            "_view_name": "ProgressView",
            "bar_style": "success",
            "description": "",
            "description_tooltip": null,
            "layout": "IPY_MODEL_f39d0a1c0e394e11b8f637cf80113099",
            "max": 2539,
            "min": 0,
            "orientation": "horizontal",
            "style": "IPY_MODEL_b577d181efd14acc908ed9f485d0673c",
            "value": 2539
          }
        },
        "8f8042987f344011b565c6e4516a410c": {
          "model_module": "@jupyter-widgets/controls",
          "model_module_version": "1.5.0",
          "model_name": "DescriptionStyleModel",
          "state": {
            "_model_module": "@jupyter-widgets/controls",
            "_model_module_version": "1.5.0",
            "_model_name": "DescriptionStyleModel",
            "_view_count": null,
            "_view_module": "@jupyter-widgets/base",
            "_view_module_version": "1.2.0",
            "_view_name": "StyleView",
            "description_width": ""
          }
        },
        "968fb8db37c24016836d2989a1e0105f": {
          "model_module": "@jupyter-widgets/base",
          "model_module_version": "1.2.0",
          "model_name": "LayoutModel",
          "state": {
            "_model_module": "@jupyter-widgets/base",
            "_model_module_version": "1.2.0",
            "_model_name": "LayoutModel",
            "_view_count": null,
            "_view_module": "@jupyter-widgets/base",
            "_view_module_version": "1.2.0",
            "_view_name": "LayoutView",
            "align_content": null,
            "align_items": null,
            "align_self": null,
            "border": null,
            "bottom": null,
            "display": null,
            "flex": null,
            "flex_flow": null,
            "grid_area": null,
            "grid_auto_columns": null,
            "grid_auto_flow": null,
            "grid_auto_rows": null,
            "grid_column": null,
            "grid_gap": null,
            "grid_row": null,
            "grid_template_areas": null,
            "grid_template_columns": null,
            "grid_template_rows": null,
            "height": null,
            "justify_content": null,
            "justify_items": null,
            "left": null,
            "margin": null,
            "max_height": null,
            "max_width": null,
            "min_height": null,
            "min_width": null,
            "object_fit": null,
            "object_position": null,
            "order": null,
            "overflow": null,
            "overflow_x": null,
            "overflow_y": null,
            "padding": null,
            "right": null,
            "top": null,
            "visibility": null,
            "width": null
          }
        },
        "9a96b4abb6c4494ea07761c2a86e1f7a": {
          "model_module": "@jupyter-widgets/controls",
          "model_module_version": "1.5.0",
          "model_name": "DescriptionStyleModel",
          "state": {
            "_model_module": "@jupyter-widgets/controls",
            "_model_module_version": "1.5.0",
            "_model_name": "DescriptionStyleModel",
            "_view_count": null,
            "_view_module": "@jupyter-widgets/base",
            "_view_module_version": "1.2.0",
            "_view_name": "StyleView",
            "description_width": ""
          }
        },
        "9c3023511d6845d4b67bc069a661acb7": {
          "model_module": "@jupyter-widgets/base",
          "model_module_version": "1.2.0",
          "model_name": "LayoutModel",
          "state": {
            "_model_module": "@jupyter-widgets/base",
            "_model_module_version": "1.2.0",
            "_model_name": "LayoutModel",
            "_view_count": null,
            "_view_module": "@jupyter-widgets/base",
            "_view_module_version": "1.2.0",
            "_view_name": "LayoutView",
            "align_content": null,
            "align_items": null,
            "align_self": null,
            "border": null,
            "bottom": null,
            "display": null,
            "flex": null,
            "flex_flow": null,
            "grid_area": null,
            "grid_auto_columns": null,
            "grid_auto_flow": null,
            "grid_auto_rows": null,
            "grid_column": null,
            "grid_gap": null,
            "grid_row": null,
            "grid_template_areas": null,
            "grid_template_columns": null,
            "grid_template_rows": null,
            "height": null,
            "justify_content": null,
            "justify_items": null,
            "left": null,
            "margin": null,
            "max_height": null,
            "max_width": null,
            "min_height": null,
            "min_width": null,
            "object_fit": null,
            "object_position": null,
            "order": null,
            "overflow": null,
            "overflow_x": null,
            "overflow_y": null,
            "padding": null,
            "right": null,
            "top": null,
            "visibility": null,
            "width": null
          }
        },
        "9d97ce170e7a469598b747084affe23b": {
          "model_module": "@jupyter-widgets/controls",
          "model_module_version": "1.5.0",
          "model_name": "ProgressStyleModel",
          "state": {
            "_model_module": "@jupyter-widgets/controls",
            "_model_module_version": "1.5.0",
            "_model_name": "ProgressStyleModel",
            "_view_count": null,
            "_view_module": "@jupyter-widgets/base",
            "_view_module_version": "1.2.0",
            "_view_name": "StyleView",
            "bar_color": null,
            "description_width": ""
          }
        },
        "9e3ea7af5e4e4836a69b1d733f54bb6d": {
          "model_module": "@jupyter-widgets/base",
          "model_module_version": "1.2.0",
          "model_name": "LayoutModel",
          "state": {
            "_model_module": "@jupyter-widgets/base",
            "_model_module_version": "1.2.0",
            "_model_name": "LayoutModel",
            "_view_count": null,
            "_view_module": "@jupyter-widgets/base",
            "_view_module_version": "1.2.0",
            "_view_name": "LayoutView",
            "align_content": null,
            "align_items": null,
            "align_self": null,
            "border": null,
            "bottom": null,
            "display": null,
            "flex": null,
            "flex_flow": null,
            "grid_area": null,
            "grid_auto_columns": null,
            "grid_auto_flow": null,
            "grid_auto_rows": null,
            "grid_column": null,
            "grid_gap": null,
            "grid_row": null,
            "grid_template_areas": null,
            "grid_template_columns": null,
            "grid_template_rows": null,
            "height": null,
            "justify_content": null,
            "justify_items": null,
            "left": null,
            "margin": null,
            "max_height": null,
            "max_width": null,
            "min_height": null,
            "min_width": null,
            "object_fit": null,
            "object_position": null,
            "order": null,
            "overflow": null,
            "overflow_x": null,
            "overflow_y": null,
            "padding": null,
            "right": null,
            "top": null,
            "visibility": null,
            "width": null
          }
        },
        "a0a621d0cc2e42f98c981457a95974cf": {
          "model_module": "@jupyter-widgets/base",
          "model_module_version": "1.2.0",
          "model_name": "LayoutModel",
          "state": {
            "_model_module": "@jupyter-widgets/base",
            "_model_module_version": "1.2.0",
            "_model_name": "LayoutModel",
            "_view_count": null,
            "_view_module": "@jupyter-widgets/base",
            "_view_module_version": "1.2.0",
            "_view_name": "LayoutView",
            "align_content": null,
            "align_items": null,
            "align_self": null,
            "border": null,
            "bottom": null,
            "display": null,
            "flex": null,
            "flex_flow": null,
            "grid_area": null,
            "grid_auto_columns": null,
            "grid_auto_flow": null,
            "grid_auto_rows": null,
            "grid_column": null,
            "grid_gap": null,
            "grid_row": null,
            "grid_template_areas": null,
            "grid_template_columns": null,
            "grid_template_rows": null,
            "height": null,
            "justify_content": null,
            "justify_items": null,
            "left": null,
            "margin": null,
            "max_height": null,
            "max_width": null,
            "min_height": null,
            "min_width": null,
            "object_fit": null,
            "object_position": null,
            "order": null,
            "overflow": null,
            "overflow_x": null,
            "overflow_y": null,
            "padding": null,
            "right": null,
            "top": null,
            "visibility": null,
            "width": null
          }
        },
        "a20b87a13aeb4c5284cf0ea4a56bc84a": {
          "model_module": "@jupyter-widgets/controls",
          "model_module_version": "1.5.0",
          "model_name": "LabelModel",
          "state": {
            "_dom_classes": [],
            "_model_module": "@jupyter-widgets/controls",
            "_model_module_version": "1.5.0",
            "_model_name": "LabelModel",
            "_view_count": null,
            "_view_module": "@jupyter-widgets/controls",
            "_view_module_version": "1.5.0",
            "_view_name": "LabelView",
            "description": "",
            "description_tooltip": null,
            "layout": "IPY_MODEL_ef4d89c42d044bbf8632978720cbd1c3",
            "placeholder": "​",
            "style": "IPY_MODEL_ee66078ab5364c1c830d1a70f6772f0f",
            "value": "Connecting..."
          }
        },
        "a469531cc6f3479282eaa0a1681e4642": {
          "model_module": "@jupyter-widgets/controls",
          "model_module_version": "1.5.0",
          "model_name": "HTMLModel",
          "state": {
            "_dom_classes": [],
            "_model_module": "@jupyter-widgets/controls",
            "_model_module_version": "1.5.0",
            "_model_name": "HTMLModel",
            "_view_count": null,
            "_view_module": "@jupyter-widgets/controls",
            "_view_module_version": "1.5.0",
            "_view_name": "HTMLView",
            "description": "",
            "description_tooltip": null,
            "layout": "IPY_MODEL_35831318539d4570b6ae51e7aee7749f",
            "placeholder": "​",
            "style": "IPY_MODEL_9a96b4abb6c4494ea07761c2a86e1f7a",
            "value": " 147/147 [00:00&lt;00:00, 7.69kB/s]"
          }
        },
        "a4bc728ca25f469a9e4e8c29da5a6348": {
          "model_module": "@jupyter-widgets/controls",
          "model_module_version": "1.5.0",
          "model_name": "HBoxModel",
          "state": {
            "_dom_classes": [],
            "_model_module": "@jupyter-widgets/controls",
            "_model_module_version": "1.5.0",
            "_model_name": "HBoxModel",
            "_view_count": null,
            "_view_module": "@jupyter-widgets/controls",
            "_view_module_version": "1.5.0",
            "_view_name": "HBoxView",
            "box_style": "",
            "children": [
              "IPY_MODEL_bad2e9e2c0bd48f89eef70af49ccd047",
              "IPY_MODEL_8cc6d9d02f8a4991a887618d321802ea",
              "IPY_MODEL_e81a35e3f6b44136b425e48de9c92b56"
            ],
            "layout": "IPY_MODEL_87958cc946f746f2a346c41fa3adf61d"
          }
        },
        "a727b9b1af7d43ee9eaf1d4c91605add": {
          "model_module": "@jupyter-widgets/controls",
          "model_module_version": "1.5.0",
          "model_name": "DescriptionStyleModel",
          "state": {
            "_model_module": "@jupyter-widgets/controls",
            "_model_module_version": "1.5.0",
            "_model_name": "DescriptionStyleModel",
            "_view_count": null,
            "_view_module": "@jupyter-widgets/base",
            "_view_module_version": "1.2.0",
            "_view_name": "StyleView",
            "description_width": ""
          }
        },
        "a9650c9d7df54a47aec4a4122e31524a": {
          "model_module": "@jupyter-widgets/controls",
          "model_module_version": "1.5.0",
          "model_name": "DescriptionStyleModel",
          "state": {
            "_model_module": "@jupyter-widgets/controls",
            "_model_module_version": "1.5.0",
            "_model_name": "DescriptionStyleModel",
            "_view_count": null,
            "_view_module": "@jupyter-widgets/base",
            "_view_module_version": "1.2.0",
            "_view_name": "StyleView",
            "description_width": ""
          }
        },
        "aa78eb811bae4863b6e41e2b592fabd6": {
          "model_module": "@jupyter-widgets/controls",
          "model_module_version": "1.5.0",
          "model_name": "ProgressStyleModel",
          "state": {
            "_model_module": "@jupyter-widgets/controls",
            "_model_module_version": "1.5.0",
            "_model_name": "ProgressStyleModel",
            "_view_count": null,
            "_view_module": "@jupyter-widgets/base",
            "_view_module_version": "1.2.0",
            "_view_name": "StyleView",
            "bar_color": null,
            "description_width": ""
          }
        },
        "aa9917b4de7c4e44918398bbf9a48e38": {
          "model_module": "@jupyter-widgets/base",
          "model_module_version": "1.2.0",
          "model_name": "LayoutModel",
          "state": {
            "_model_module": "@jupyter-widgets/base",
            "_model_module_version": "1.2.0",
            "_model_name": "LayoutModel",
            "_view_count": null,
            "_view_module": "@jupyter-widgets/base",
            "_view_module_version": "1.2.0",
            "_view_name": "LayoutView",
            "align_content": null,
            "align_items": null,
            "align_self": null,
            "border": null,
            "bottom": null,
            "display": null,
            "flex": null,
            "flex_flow": null,
            "grid_area": null,
            "grid_auto_columns": null,
            "grid_auto_flow": null,
            "grid_auto_rows": null,
            "grid_column": null,
            "grid_gap": null,
            "grid_row": null,
            "grid_template_areas": null,
            "grid_template_columns": null,
            "grid_template_rows": null,
            "height": null,
            "justify_content": null,
            "justify_items": null,
            "left": null,
            "margin": null,
            "max_height": null,
            "max_width": null,
            "min_height": null,
            "min_width": null,
            "object_fit": null,
            "object_position": null,
            "order": null,
            "overflow": null,
            "overflow_x": null,
            "overflow_y": null,
            "padding": null,
            "right": null,
            "top": null,
            "visibility": null,
            "width": null
          }
        },
        "ae787ec8405a49f7b71c4ca3326ed9b8": {
          "model_module": "@jupyter-widgets/base",
          "model_module_version": "1.2.0",
          "model_name": "LayoutModel",
          "state": {
            "_model_module": "@jupyter-widgets/base",
            "_model_module_version": "1.2.0",
            "_model_name": "LayoutModel",
            "_view_count": null,
            "_view_module": "@jupyter-widgets/base",
            "_view_module_version": "1.2.0",
            "_view_name": "LayoutView",
            "align_content": null,
            "align_items": null,
            "align_self": null,
            "border": null,
            "bottom": null,
            "display": null,
            "flex": null,
            "flex_flow": null,
            "grid_area": null,
            "grid_auto_columns": null,
            "grid_auto_flow": null,
            "grid_auto_rows": null,
            "grid_column": null,
            "grid_gap": null,
            "grid_row": null,
            "grid_template_areas": null,
            "grid_template_columns": null,
            "grid_template_rows": null,
            "height": null,
            "justify_content": null,
            "justify_items": null,
            "left": null,
            "margin": null,
            "max_height": null,
            "max_width": null,
            "min_height": null,
            "min_width": null,
            "object_fit": null,
            "object_position": null,
            "order": null,
            "overflow": null,
            "overflow_x": null,
            "overflow_y": null,
            "padding": null,
            "right": null,
            "top": null,
            "visibility": null,
            "width": null
          }
        },
        "b1105c8fa17e4d7eba1b1d2fc3226507": {
          "model_module": "@jupyter-widgets/base",
          "model_module_version": "1.2.0",
          "model_name": "LayoutModel",
          "state": {
            "_model_module": "@jupyter-widgets/base",
            "_model_module_version": "1.2.0",
            "_model_name": "LayoutModel",
            "_view_count": null,
            "_view_module": "@jupyter-widgets/base",
            "_view_module_version": "1.2.0",
            "_view_name": "LayoutView",
            "align_content": null,
            "align_items": null,
            "align_self": null,
            "border": null,
            "bottom": null,
            "display": null,
            "flex": null,
            "flex_flow": null,
            "grid_area": null,
            "grid_auto_columns": null,
            "grid_auto_flow": null,
            "grid_auto_rows": null,
            "grid_column": null,
            "grid_gap": null,
            "grid_row": null,
            "grid_template_areas": null,
            "grid_template_columns": null,
            "grid_template_rows": null,
            "height": null,
            "justify_content": null,
            "justify_items": null,
            "left": null,
            "margin": null,
            "max_height": null,
            "max_width": null,
            "min_height": null,
            "min_width": null,
            "object_fit": null,
            "object_position": null,
            "order": null,
            "overflow": null,
            "overflow_x": null,
            "overflow_y": null,
            "padding": null,
            "right": null,
            "top": null,
            "visibility": null,
            "width": null
          }
        },
        "b577d181efd14acc908ed9f485d0673c": {
          "model_module": "@jupyter-widgets/controls",
          "model_module_version": "1.5.0",
          "model_name": "ProgressStyleModel",
          "state": {
            "_model_module": "@jupyter-widgets/controls",
            "_model_module_version": "1.5.0",
            "_model_name": "ProgressStyleModel",
            "_view_count": null,
            "_view_module": "@jupyter-widgets/base",
            "_view_module_version": "1.2.0",
            "_view_name": "StyleView",
            "bar_color": null,
            "description_width": ""
          }
        },
        "b8e3199e2a4843bd93434235656fe53f": {
          "model_module": "@jupyter-widgets/base",
          "model_module_version": "1.2.0",
          "model_name": "LayoutModel",
          "state": {
            "_model_module": "@jupyter-widgets/base",
            "_model_module_version": "1.2.0",
            "_model_name": "LayoutModel",
            "_view_count": null,
            "_view_module": "@jupyter-widgets/base",
            "_view_module_version": "1.2.0",
            "_view_name": "LayoutView",
            "align_content": null,
            "align_items": null,
            "align_self": null,
            "border": null,
            "bottom": null,
            "display": null,
            "flex": null,
            "flex_flow": null,
            "grid_area": null,
            "grid_auto_columns": null,
            "grid_auto_flow": null,
            "grid_auto_rows": null,
            "grid_column": null,
            "grid_gap": null,
            "grid_row": null,
            "grid_template_areas": null,
            "grid_template_columns": null,
            "grid_template_rows": null,
            "height": null,
            "justify_content": null,
            "justify_items": null,
            "left": null,
            "margin": null,
            "max_height": null,
            "max_width": null,
            "min_height": null,
            "min_width": null,
            "object_fit": null,
            "object_position": null,
            "order": null,
            "overflow": null,
            "overflow_x": null,
            "overflow_y": null,
            "padding": null,
            "right": null,
            "top": null,
            "visibility": null,
            "width": null
          }
        },
        "bad2e9e2c0bd48f89eef70af49ccd047": {
          "model_module": "@jupyter-widgets/controls",
          "model_module_version": "1.5.0",
          "model_name": "HTMLModel",
          "state": {
            "_dom_classes": [],
            "_model_module": "@jupyter-widgets/controls",
            "_model_module_version": "1.5.0",
            "_model_name": "HTMLModel",
            "_view_count": null,
            "_view_module": "@jupyter-widgets/controls",
            "_view_module_version": "1.5.0",
            "_view_name": "HTMLView",
            "description": "",
            "description_tooltip": null,
            "layout": "IPY_MODEL_3b607967ea6c4f98aee227cb4a97e61a",
            "placeholder": "​",
            "style": "IPY_MODEL_a9650c9d7df54a47aec4a4122e31524a",
            "value": "tokenizer_config.json: 100%"
          }
        },
        "bbb7a04f942f4a76a06670cdbc9a4921": {
          "model_module": "@jupyter-widgets/controls",
          "model_module_version": "1.5.0",
          "model_name": "HTMLModel",
          "state": {
            "_dom_classes": [],
            "_model_module": "@jupyter-widgets/controls",
            "_model_module_version": "1.5.0",
            "_model_name": "HTMLModel",
            "_view_count": null,
            "_view_module": "@jupyter-widgets/controls",
            "_view_module_version": "1.5.0",
            "_view_name": "HTMLView",
            "description": "",
            "description_tooltip": null,
            "layout": "IPY_MODEL_ae787ec8405a49f7b71c4ca3326ed9b8",
            "placeholder": "​",
            "style": "IPY_MODEL_8f8042987f344011b565c6e4516a410c",
            "value": "special_tokens_map.json: 100%"
          }
        },
        "bd1245752ba543598df187a3f9525bd3": {
          "model_module": "@jupyter-widgets/controls",
          "model_module_version": "1.5.0",
          "model_name": "ProgressStyleModel",
          "state": {
            "_model_module": "@jupyter-widgets/controls",
            "_model_module_version": "1.5.0",
            "_model_name": "ProgressStyleModel",
            "_view_count": null,
            "_view_module": "@jupyter-widgets/base",
            "_view_module_version": "1.2.0",
            "_view_name": "StyleView",
            "bar_color": null,
            "description_width": ""
          }
        },
        "c11771ad1b5e4886bdc7ea93bc27e759": {
          "model_module": "@jupyter-widgets/base",
          "model_module_version": "1.2.0",
          "model_name": "LayoutModel",
          "state": {
            "_model_module": "@jupyter-widgets/base",
            "_model_module_version": "1.2.0",
            "_model_name": "LayoutModel",
            "_view_count": null,
            "_view_module": "@jupyter-widgets/base",
            "_view_module_version": "1.2.0",
            "_view_name": "LayoutView",
            "align_content": null,
            "align_items": null,
            "align_self": null,
            "border": null,
            "bottom": null,
            "display": null,
            "flex": null,
            "flex_flow": null,
            "grid_area": null,
            "grid_auto_columns": null,
            "grid_auto_flow": null,
            "grid_auto_rows": null,
            "grid_column": null,
            "grid_gap": null,
            "grid_row": null,
            "grid_template_areas": null,
            "grid_template_columns": null,
            "grid_template_rows": null,
            "height": null,
            "justify_content": null,
            "justify_items": null,
            "left": null,
            "margin": null,
            "max_height": null,
            "max_width": null,
            "min_height": null,
            "min_width": null,
            "object_fit": null,
            "object_position": null,
            "order": null,
            "overflow": null,
            "overflow_x": null,
            "overflow_y": null,
            "padding": null,
            "right": null,
            "top": null,
            "visibility": null,
            "width": null
          }
        },
        "c7abd5c88cfe4fcdb230f525e40928ec": {
          "model_module": "@jupyter-widgets/base",
          "model_module_version": "1.2.0",
          "model_name": "LayoutModel",
          "state": {
            "_model_module": "@jupyter-widgets/base",
            "_model_module_version": "1.2.0",
            "_model_name": "LayoutModel",
            "_view_count": null,
            "_view_module": "@jupyter-widgets/base",
            "_view_module_version": "1.2.0",
            "_view_name": "LayoutView",
            "align_content": null,
            "align_items": null,
            "align_self": null,
            "border": null,
            "bottom": null,
            "display": null,
            "flex": null,
            "flex_flow": null,
            "grid_area": null,
            "grid_auto_columns": null,
            "grid_auto_flow": null,
            "grid_auto_rows": null,
            "grid_column": null,
            "grid_gap": null,
            "grid_row": null,
            "grid_template_areas": null,
            "grid_template_columns": null,
            "grid_template_rows": null,
            "height": null,
            "justify_content": null,
            "justify_items": null,
            "left": null,
            "margin": null,
            "max_height": null,
            "max_width": null,
            "min_height": null,
            "min_width": null,
            "object_fit": null,
            "object_position": null,
            "order": null,
            "overflow": null,
            "overflow_x": null,
            "overflow_y": null,
            "padding": null,
            "right": null,
            "top": null,
            "visibility": null,
            "width": null
          }
        },
        "c7c649999afc47e4b905e73ea8bc2e0b": {
          "model_module": "@jupyter-widgets/controls",
          "model_module_version": "1.5.0",
          "model_name": "HTMLModel",
          "state": {
            "_dom_classes": [],
            "_model_module": "@jupyter-widgets/controls",
            "_model_module_version": "1.5.0",
            "_model_name": "HTMLModel",
            "_view_count": null,
            "_view_module": "@jupyter-widgets/controls",
            "_view_module_version": "1.5.0",
            "_view_name": "HTMLView",
            "description": "",
            "description_tooltip": null,
            "layout": "IPY_MODEL_102fc298864e480bbd3755b3904b1508",
            "placeholder": "​",
            "style": "IPY_MODEL_36594a98e51b48f087879609ccc21847",
            "value": " 792k/792k [00:00&lt;00:00, 40.6MB/s]"
          }
        },
        "c8d5a27353e5474da6b80712507437ce": {
          "model_module": "@jupyter-widgets/controls",
          "model_module_version": "1.5.0",
          "model_name": "HTMLModel",
          "state": {
            "_dom_classes": [],
            "_model_module": "@jupyter-widgets/controls",
            "_model_module_version": "1.5.0",
            "_model_name": "HTMLModel",
            "_view_count": null,
            "_view_module": "@jupyter-widgets/controls",
            "_view_module_version": "1.5.0",
            "_view_name": "HTMLView",
            "description": "",
            "description_tooltip": null,
            "layout": "IPY_MODEL_aa9917b4de7c4e44918398bbf9a48e38",
            "placeholder": "​",
            "style": "IPY_MODEL_d12df3885aed414baac683fd05809919",
            "value": "tokenizer.json: 100%"
          }
        },
        "ce9624e790074695be24127e2a1e327f": {
          "model_module": "@jupyter-widgets/controls",
          "model_module_version": "1.5.0",
          "model_name": "DescriptionStyleModel",
          "state": {
            "_model_module": "@jupyter-widgets/controls",
            "_model_module_version": "1.5.0",
            "_model_name": "DescriptionStyleModel",
            "_view_count": null,
            "_view_module": "@jupyter-widgets/base",
            "_view_module_version": "1.2.0",
            "_view_name": "StyleView",
            "description_width": ""
          }
        },
        "d068723c4cfd431d8c1a25913766b1da": {
          "model_module": "@jupyter-widgets/base",
          "model_module_version": "1.2.0",
          "model_name": "LayoutModel",
          "state": {
            "_model_module": "@jupyter-widgets/base",
            "_model_module_version": "1.2.0",
            "_model_name": "LayoutModel",
            "_view_count": null,
            "_view_module": "@jupyter-widgets/base",
            "_view_module_version": "1.2.0",
            "_view_name": "LayoutView",
            "align_content": null,
            "align_items": null,
            "align_self": null,
            "border": null,
            "bottom": null,
            "display": null,
            "flex": null,
            "flex_flow": null,
            "grid_area": null,
            "grid_auto_columns": null,
            "grid_auto_flow": null,
            "grid_auto_rows": null,
            "grid_column": null,
            "grid_gap": null,
            "grid_row": null,
            "grid_template_areas": null,
            "grid_template_columns": null,
            "grid_template_rows": null,
            "height": null,
            "justify_content": null,
            "justify_items": null,
            "left": null,
            "margin": null,
            "max_height": null,
            "max_width": null,
            "min_height": null,
            "min_width": null,
            "object_fit": null,
            "object_position": null,
            "order": null,
            "overflow": null,
            "overflow_x": null,
            "overflow_y": null,
            "padding": null,
            "right": null,
            "top": null,
            "visibility": null,
            "width": null
          }
        },
        "d12df3885aed414baac683fd05809919": {
          "model_module": "@jupyter-widgets/controls",
          "model_module_version": "1.5.0",
          "model_name": "DescriptionStyleModel",
          "state": {
            "_model_module": "@jupyter-widgets/controls",
            "_model_module_version": "1.5.0",
            "_model_name": "DescriptionStyleModel",
            "_view_count": null,
            "_view_module": "@jupyter-widgets/base",
            "_view_module_version": "1.2.0",
            "_view_name": "StyleView",
            "description_width": ""
          }
        },
        "d40887670a1a4096af5703b09e72a538": {
          "model_module": "@jupyter-widgets/controls",
          "model_module_version": "1.5.0",
          "model_name": "HBoxModel",
          "state": {
            "_dom_classes": [],
            "_model_module": "@jupyter-widgets/controls",
            "_model_module_version": "1.5.0",
            "_model_name": "HBoxModel",
            "_view_count": null,
            "_view_module": "@jupyter-widgets/controls",
            "_view_module_version": "1.5.0",
            "_view_name": "HBoxView",
            "box_style": "",
            "children": [
              "IPY_MODEL_bbb7a04f942f4a76a06670cdbc9a4921",
              "IPY_MODEL_2939437aa32a4dd7999cef3a0ab9c197",
              "IPY_MODEL_24ba7301a81348c1afdd911c98d01086"
            ],
            "layout": "IPY_MODEL_de907cbabe86452a81926f34dceac992"
          }
        },
        "d593cda477e14bbab0f7dada4e8d77a9": {
          "model_module": "@jupyter-widgets/base",
          "model_module_version": "1.2.0",
          "model_name": "LayoutModel",
          "state": {
            "_model_module": "@jupyter-widgets/base",
            "_model_module_version": "1.2.0",
            "_model_name": "LayoutModel",
            "_view_count": null,
            "_view_module": "@jupyter-widgets/base",
            "_view_module_version": "1.2.0",
            "_view_name": "LayoutView",
            "align_content": null,
            "align_items": null,
            "align_self": null,
            "border": null,
            "bottom": null,
            "display": null,
            "flex": null,
            "flex_flow": null,
            "grid_area": null,
            "grid_auto_columns": null,
            "grid_auto_flow": null,
            "grid_auto_rows": null,
            "grid_column": null,
            "grid_gap": null,
            "grid_row": null,
            "grid_template_areas": null,
            "grid_template_columns": null,
            "grid_template_rows": null,
            "height": null,
            "justify_content": null,
            "justify_items": null,
            "left": null,
            "margin": null,
            "max_height": null,
            "max_width": null,
            "min_height": null,
            "min_width": null,
            "object_fit": null,
            "object_position": null,
            "order": null,
            "overflow": null,
            "overflow_x": null,
            "overflow_y": null,
            "padding": null,
            "right": null,
            "top": null,
            "visibility": null,
            "width": null
          }
        },
        "d5c691af57094039b773330c3bf0d7ac": {
          "model_module": "@jupyter-widgets/controls",
          "model_module_version": "1.5.0",
          "model_name": "FloatProgressModel",
          "state": {
            "_dom_classes": [],
            "_model_module": "@jupyter-widgets/controls",
            "_model_module_version": "1.5.0",
            "_model_name": "FloatProgressModel",
            "_view_count": null,
            "_view_module": "@jupyter-widgets/controls",
            "_view_module_version": "1.5.0",
            "_view_name": "ProgressView",
            "bar_style": "success",
            "description": "",
            "description_tooltip": null,
            "layout": "IPY_MODEL_d068723c4cfd431d8c1a25913766b1da",
            "max": 307867048,
            "min": 0,
            "orientation": "horizontal",
            "style": "IPY_MODEL_aa78eb811bae4863b6e41e2b592fabd6",
            "value": 307867048
          }
        },
        "d7ef17370d924fe2a1789e35ac227f91": {
          "model_module": "@jupyter-widgets/controls",
          "model_module_version": "1.5.0",
          "model_name": "HBoxModel",
          "state": {
            "_dom_classes": [],
            "_model_module": "@jupyter-widgets/controls",
            "_model_module_version": "1.5.0",
            "_model_name": "HBoxModel",
            "_view_count": null,
            "_view_module": "@jupyter-widgets/controls",
            "_view_module_version": "1.5.0",
            "_view_name": "HBoxView",
            "box_style": "",
            "children": [
              "IPY_MODEL_f2c684f72a584f63baad4bff26ad401a",
              "IPY_MODEL_d5c691af57094039b773330c3bf0d7ac",
              "IPY_MODEL_54ab062c63344bb5b90ff9bd836eac6c"
            ],
            "layout": "IPY_MODEL_9c3023511d6845d4b67bc069a661acb7"
          }
        },
        "da011218f2f74ad68b68a6d2ed606b17": {
          "model_module": "@jupyter-widgets/controls",
          "model_module_version": "1.5.0",
          "model_name": "FloatProgressModel",
          "state": {
            "_dom_classes": [],
            "_model_module": "@jupyter-widgets/controls",
            "_model_module_version": "1.5.0",
            "_model_name": "FloatProgressModel",
            "_view_count": null,
            "_view_module": "@jupyter-widgets/controls",
            "_view_module_version": "1.5.0",
            "_view_name": "ProgressView",
            "bar_style": "success",
            "description": "",
            "description_tooltip": null,
            "layout": "IPY_MODEL_c7abd5c88cfe4fcdb230f525e40928ec",
            "max": 2424064,
            "min": 0,
            "orientation": "horizontal",
            "style": "IPY_MODEL_e21734fac3ec409e8da044d8ddc98c0d",
            "value": 2424064
          }
        },
        "ddd9dee5be674868a9255d9ed9a2bd4a": {
          "model_module": "@jupyter-widgets/controls",
          "model_module_version": "1.5.0",
          "model_name": "DescriptionStyleModel",
          "state": {
            "_model_module": "@jupyter-widgets/controls",
            "_model_module_version": "1.5.0",
            "_model_name": "DescriptionStyleModel",
            "_view_count": null,
            "_view_module": "@jupyter-widgets/base",
            "_view_module_version": "1.2.0",
            "_view_name": "StyleView",
            "description_width": ""
          }
        },
        "ddf6a70e49a34c498ef85a97d2eee2a6": {
          "model_module": "@jupyter-widgets/controls",
          "model_module_version": "1.5.0",
          "model_name": "DescriptionStyleModel",
          "state": {
            "_model_module": "@jupyter-widgets/controls",
            "_model_module_version": "1.5.0",
            "_model_name": "DescriptionStyleModel",
            "_view_count": null,
            "_view_module": "@jupyter-widgets/base",
            "_view_module_version": "1.2.0",
            "_view_name": "StyleView",
            "description_width": ""
          }
        },
        "de907cbabe86452a81926f34dceac992": {
          "model_module": "@jupyter-widgets/base",
          "model_module_version": "1.2.0",
          "model_name": "LayoutModel",
          "state": {
            "_model_module": "@jupyter-widgets/base",
            "_model_module_version": "1.2.0",
            "_model_name": "LayoutModel",
            "_view_count": null,
            "_view_module": "@jupyter-widgets/base",
            "_view_module_version": "1.2.0",
            "_view_name": "LayoutView",
            "align_content": null,
            "align_items": null,
            "align_self": null,
            "border": null,
            "bottom": null,
            "display": null,
            "flex": null,
            "flex_flow": null,
            "grid_area": null,
            "grid_auto_columns": null,
            "grid_auto_flow": null,
            "grid_auto_rows": null,
            "grid_column": null,
            "grid_gap": null,
            "grid_row": null,
            "grid_template_areas": null,
            "grid_template_columns": null,
            "grid_template_rows": null,
            "height": null,
            "justify_content": null,
            "justify_items": null,
            "left": null,
            "margin": null,
            "max_height": null,
            "max_width": null,
            "min_height": null,
            "min_width": null,
            "object_fit": null,
            "object_position": null,
            "order": null,
            "overflow": null,
            "overflow_x": null,
            "overflow_y": null,
            "padding": null,
            "right": null,
            "top": null,
            "visibility": null,
            "width": null
          }
        },
        "df40ce46272d4f08a5f52b6aaf2d8d61": {
          "model_module": "@jupyter-widgets/controls",
          "model_module_version": "1.5.0",
          "model_name": "HBoxModel",
          "state": {
            "_dom_classes": [],
            "_model_module": "@jupyter-widgets/controls",
            "_model_module_version": "1.5.0",
            "_model_name": "HBoxModel",
            "_view_count": null,
            "_view_module": "@jupyter-widgets/controls",
            "_view_module_version": "1.5.0",
            "_view_name": "HBoxView",
            "box_style": "",
            "children": [
              "IPY_MODEL_2b72ff034bc2472faf26ee93e4836cb7",
              "IPY_MODEL_1cbed3498b184b6994ec34948575299e",
              "IPY_MODEL_4487e57607614c2d872ab7930f221743"
            ],
            "layout": "IPY_MODEL_b8e3199e2a4843bd93434235656fe53f"
          }
        },
        "e21734fac3ec409e8da044d8ddc98c0d": {
          "model_module": "@jupyter-widgets/controls",
          "model_module_version": "1.5.0",
          "model_name": "ProgressStyleModel",
          "state": {
            "_model_module": "@jupyter-widgets/controls",
            "_model_module_version": "1.5.0",
            "_model_name": "ProgressStyleModel",
            "_view_count": null,
            "_view_module": "@jupyter-widgets/base",
            "_view_module_version": "1.2.0",
            "_view_name": "StyleView",
            "bar_color": null,
            "description_width": ""
          }
        },
        "e81a35e3f6b44136b425e48de9c92b56": {
          "model_module": "@jupyter-widgets/controls",
          "model_module_version": "1.5.0",
          "model_name": "HTMLModel",
          "state": {
            "_dom_classes": [],
            "_model_module": "@jupyter-widgets/controls",
            "_model_module_version": "1.5.0",
            "_model_name": "HTMLModel",
            "_view_count": null,
            "_view_module": "@jupyter-widgets/controls",
            "_view_module_version": "1.5.0",
            "_view_name": "HTMLView",
            "description": "",
            "description_tooltip": null,
            "layout": "IPY_MODEL_092430d9436f404e8b84c8bb1d184545",
            "placeholder": "​",
            "style": "IPY_MODEL_152c18f365f146d88897c973006a8304",
            "value": " 2.54k/2.54k [00:00&lt;00:00, 165kB/s]"
          }
        },
        "eab7a700582a40008fae0f51576564ad": {
          "model_module": "@jupyter-widgets/controls",
          "model_module_version": "1.5.0",
          "model_name": "CheckboxModel",
          "state": {
            "_dom_classes": [],
            "_model_module": "@jupyter-widgets/controls",
            "_model_module_version": "1.5.0",
            "_model_name": "CheckboxModel",
            "_view_count": null,
            "_view_module": "@jupyter-widgets/controls",
            "_view_module_version": "1.5.0",
            "_view_name": "CheckboxView",
            "description": "Add token as git credential?",
            "description_tooltip": null,
            "disabled": false,
            "indent": true,
            "layout": "IPY_MODEL_c11771ad1b5e4886bdc7ea93bc27e759",
            "style": "IPY_MODEL_ddf6a70e49a34c498ef85a97d2eee2a6",
            "value": false
          }
        },
        "ee66078ab5364c1c830d1a70f6772f0f": {
          "model_module": "@jupyter-widgets/controls",
          "model_module_version": "1.5.0",
          "model_name": "DescriptionStyleModel",
          "state": {
            "_model_module": "@jupyter-widgets/controls",
            "_model_module_version": "1.5.0",
            "_model_name": "DescriptionStyleModel",
            "_view_count": null,
            "_view_module": "@jupyter-widgets/base",
            "_view_module_version": "1.2.0",
            "_view_name": "StyleView",
            "description_width": ""
          }
        },
        "ef4d89c42d044bbf8632978720cbd1c3": {
          "model_module": "@jupyter-widgets/base",
          "model_module_version": "1.2.0",
          "model_name": "LayoutModel",
          "state": {
            "_model_module": "@jupyter-widgets/base",
            "_model_module_version": "1.2.0",
            "_model_name": "LayoutModel",
            "_view_count": null,
            "_view_module": "@jupyter-widgets/base",
            "_view_module_version": "1.2.0",
            "_view_name": "LayoutView",
            "align_content": null,
            "align_items": null,
            "align_self": null,
            "border": null,
            "bottom": null,
            "display": null,
            "flex": null,
            "flex_flow": null,
            "grid_area": null,
            "grid_auto_columns": null,
            "grid_auto_flow": null,
            "grid_auto_rows": null,
            "grid_column": null,
            "grid_gap": null,
            "grid_row": null,
            "grid_template_areas": null,
            "grid_template_columns": null,
            "grid_template_rows": null,
            "height": null,
            "justify_content": null,
            "justify_items": null,
            "left": null,
            "margin": null,
            "max_height": null,
            "max_width": null,
            "min_height": null,
            "min_width": null,
            "object_fit": null,
            "object_position": null,
            "order": null,
            "overflow": null,
            "overflow_x": null,
            "overflow_y": null,
            "padding": null,
            "right": null,
            "top": null,
            "visibility": null,
            "width": null
          }
        },
        "f2c684f72a584f63baad4bff26ad401a": {
          "model_module": "@jupyter-widgets/controls",
          "model_module_version": "1.5.0",
          "model_name": "HTMLModel",
          "state": {
            "_dom_classes": [],
            "_model_module": "@jupyter-widgets/controls",
            "_model_module_version": "1.5.0",
            "_model_name": "HTMLModel",
            "_view_count": null,
            "_view_module": "@jupyter-widgets/controls",
            "_view_module_version": "1.5.0",
            "_view_name": "HTMLView",
            "description": "",
            "description_tooltip": null,
            "layout": "IPY_MODEL_9e3ea7af5e4e4836a69b1d733f54bb6d",
            "placeholder": "​",
            "style": "IPY_MODEL_63c60f1ba9104c4d897ffa455ff90a5e",
            "value": "model.safetensors: 100%"
          }
        },
        "f39d0a1c0e394e11b8f637cf80113099": {
          "model_module": "@jupyter-widgets/base",
          "model_module_version": "1.2.0",
          "model_name": "LayoutModel",
          "state": {
            "_model_module": "@jupyter-widgets/base",
            "_model_module_version": "1.2.0",
            "_model_name": "LayoutModel",
            "_view_count": null,
            "_view_module": "@jupyter-widgets/base",
            "_view_module_version": "1.2.0",
            "_view_name": "LayoutView",
            "align_content": null,
            "align_items": null,
            "align_self": null,
            "border": null,
            "bottom": null,
            "display": null,
            "flex": null,
            "flex_flow": null,
            "grid_area": null,
            "grid_auto_columns": null,
            "grid_auto_flow": null,
            "grid_auto_rows": null,
            "grid_column": null,
            "grid_gap": null,
            "grid_row": null,
            "grid_template_areas": null,
            "grid_template_columns": null,
            "grid_template_rows": null,
            "height": null,
            "justify_content": null,
            "justify_items": null,
            "left": null,
            "margin": null,
            "max_height": null,
            "max_width": null,
            "min_height": null,
            "min_width": null,
            "object_fit": null,
            "object_position": null,
            "order": null,
            "overflow": null,
            "overflow_x": null,
            "overflow_y": null,
            "padding": null,
            "right": null,
            "top": null,
            "visibility": null,
            "width": null
          }
        },
        "f742ada61cb6416e88a7766c4edacddb": {
          "model_module": "@jupyter-widgets/base",
          "model_module_version": "1.2.0",
          "model_name": "LayoutModel",
          "state": {
            "_model_module": "@jupyter-widgets/base",
            "_model_module_version": "1.2.0",
            "_model_name": "LayoutModel",
            "_view_count": null,
            "_view_module": "@jupyter-widgets/base",
            "_view_module_version": "1.2.0",
            "_view_name": "LayoutView",
            "align_content": null,
            "align_items": "center",
            "align_self": null,
            "border": null,
            "bottom": null,
            "display": "flex",
            "flex": null,
            "flex_flow": "column",
            "grid_area": null,
            "grid_auto_columns": null,
            "grid_auto_flow": null,
            "grid_auto_rows": null,
            "grid_column": null,
            "grid_gap": null,
            "grid_row": null,
            "grid_template_areas": null,
            "grid_template_columns": null,
            "grid_template_rows": null,
            "height": null,
            "justify_content": null,
            "justify_items": null,
            "left": null,
            "margin": null,
            "max_height": null,
            "max_width": null,
            "min_height": null,
            "min_width": null,
            "object_fit": null,
            "object_position": null,
            "order": null,
            "overflow": null,
            "overflow_x": null,
            "overflow_y": null,
            "padding": null,
            "right": null,
            "top": null,
            "visibility": null,
            "width": "50%"
          }
        }
      }
    }
  },
  "nbformat": 4,
  "nbformat_minor": 0
}
